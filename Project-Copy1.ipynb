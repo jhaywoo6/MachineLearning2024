{
 "cells": [
  {
   "cell_type": "code",
   "execution_count": 1,
   "id": "d2f41aa0-ead5-4de6-8995-c0a8efb8909a",
   "metadata": {},
   "outputs": [
    {
     "name": "stderr",
     "output_type": "stream",
     "text": [
      "[*********************100%%**********************]  1 of 1 completed"
     ]
    },
    {
     "name": "stdout",
     "output_type": "stream",
     "text": [
      "                  Open        High         Low       Close   Adj Close  \\\n",
      "Date                                                                     \n",
      "2019-08-05  184.690002  185.669998  179.339996  181.729996  181.357315   \n",
      "2019-08-06  183.690002  185.789993  183.089996  184.509995  184.131607   \n",
      "2019-08-07  183.600006  186.369995  181.220001  185.149994  184.770309   \n",
      "2019-08-08  186.619995  190.339996  184.050003  190.160004  189.770035   \n",
      "2019-08-09  190.000000  190.979996  187.119995  187.850006  187.464783   \n",
      "\n",
      "              Volume  \n",
      "Date                  \n",
      "2019-08-05  23086700  \n",
      "2019-08-06  18035700  \n",
      "2019-08-07  15833200  \n",
      "2019-08-08  14828900  \n",
      "2019-08-09  11058800  \n"
     ]
    },
    {
     "name": "stderr",
     "output_type": "stream",
     "text": [
      "\n"
     ]
    }
   ],
   "source": [
    "import yfinance as yf\n",
    "import numpy as np\n",
    "import pandas as pd\n",
    "import torch\n",
    "from sklearn.model_selection import train_test_split\n",
    "import matplotlib.pyplot as plt\n",
    "ticker = 'META'\n",
    "data = yf.download(ticker, period=\"5y\")\n",
    "print(data.head())"
   ]
  },
  {
   "cell_type": "code",
   "execution_count": 2,
   "id": "c4dec3b9-b559-4a56-a1a8-683cb6ebc293",
   "metadata": {},
   "outputs": [],
   "source": [
    "GPU_cuda_no = 0\n",
    "\n",
    "cuda_no = 'cuda:'+str(GPU_cuda_no)\n",
    "\n",
    "device = torch.device(cuda_no if torch.cuda.is_available() else 'cpu')"
   ]
  },
  {
   "cell_type": "code",
   "execution_count": 3,
   "id": "e8ac21e3-2d38-423d-b807-7b8e1b82e650",
   "metadata": {},
   "outputs": [],
   "source": [
    "# model = net.\"MODLENAME\"(num_features, output_size).to(device) #Make Modle"
   ]
  },
  {
   "cell_type": "code",
   "execution_count": 4,
   "id": "c3ef2045-44e4-4d7d-bbd0-67e469fbf561",
   "metadata": {},
   "outputs": [],
   "source": [
    "from sklearn.linear_model import LogisticRegression\n",
    "from sklearn import metrics\n",
    "from sklearn.model_selection import cross_val_score\n",
    "data['S_10'] = data['Close'].rolling(window=10).mean()\n",
    "data['Corr'] = data['Close'].rolling(window=10).corr(data['S_10'])\n",
    "data['Open-Close'] = data['Open'] - data['Close'].shift(1)\n",
    "data['Open-Open'] = data['Open'] - data['Open'].shift(1)\n",
    "data = data.dropna()\n",
    "X_Log = data.iloc[:,:9]\n",
    "y_Log = np.where(data['Close'].shift(-1) > data['Close'],1,-1)"
   ]
  },
  {
   "cell_type": "code",
   "execution_count": 5,
   "id": "dae2e9c4-434e-4163-bfeb-78247cf9f72d",
   "metadata": {},
   "outputs": [],
   "source": [
    "split = int(0.7*len(data))\n",
    "X_train_Log, X_test_Log, y_train_Log, y_test_Log = X_Log[:split], X_Log[split:], y_Log[:split], y_Log[split:]"
   ]
  },
  {
   "cell_type": "code",
   "execution_count": 6,
   "id": "606a189e-6523-4352-bbd9-fec41bc9b2fc",
   "metadata": {},
   "outputs": [],
   "source": [
    "model_Log = LogisticRegression()\n",
    "model_Log = model_Log.fit (X_train_Log,y_train_Log)"
   ]
  },
  {
   "cell_type": "code",
   "execution_count": 7,
   "id": "71e901f9-74f8-4eae-88c2-26baf178f29d",
   "metadata": {},
   "outputs": [
    {
     "name": "stdout",
     "output_type": "stream",
     "text": [
      "            0                          1\n",
      "0        Open   [5.5042141329028103e-05]\n",
      "1        High   [5.5093953435354236e-05]\n",
      "2         Low    [5.494473902644267e-05]\n",
      "3       Close    [5.419762437146429e-05]\n",
      "4   Adj Close    [5.408648543638214e-05]\n",
      "5      Volume   [-2.009096551551531e-09]\n",
      "6        S_10    [6.013793865602115e-05]\n",
      "7        Corr  [-1.2176052784397424e-07]\n",
      "8  Open-Close   [-1.412405286467848e-06]\n"
     ]
    }
   ],
   "source": [
    "coef_df = pd.DataFrame(zip(X_Log.columns, np.transpose(model_Log.coef_)))\n",
    "print(coef_df)"
   ]
  },
  {
   "cell_type": "code",
   "execution_count": 8,
   "id": "078616ed-2f56-4f69-a128-11773494444e",
   "metadata": {},
   "outputs": [
    {
     "name": "stdout",
     "output_type": "stream",
     "text": [
      "[-1 -1 -1  1  1  1  1 -1  1  1  1  1 -1 -1  1 -1 -1 -1  1  1  1  1 -1 -1\n",
      " -1 -1  1  1  1  1  1  1  1  1  1  1  1  1  1  1  1  1  1  1  1  1  1  1\n",
      "  1  1  1  1 -1 -1 -1  1  1  1  1  1  1  1  1  1  1  1  1  1  1  1  1  1\n",
      "  1  1  1  1  1  1  1  1  1  1  1  1  1  1  1  1  1  1  1  1 -1  1  1  1\n",
      "  1  1  1  1  1  1  1  1  1  1  1  1  1  1  1  1  1  1  1 -1  1  1  1  1\n",
      "  1  1  1  1  1  1  1  1  1  1  1  1  1  1  1  1  1  1  1  1  1  1  1  1\n",
      "  1  1  1  1  1  1  1  1  1  1  1  1  1  1  1  1  1  1  1  1  1  1  1  1\n",
      "  1  1  1  1  1  1  1  1  1  1  1 -1  1  1  1  1  1  1  1  1  1  1  1  1\n",
      "  1  1  1  1  1  1  1  1  1  1  1  1  1  1  1  1  1  1  1  1  1  1  1  1\n",
      "  1  1  1  1  1  1  1  1  1  1  1  1  1  1  1  1  1  1  1  1  1  1  1  1\n",
      "  1  1  1  1  1  1 -1  1  1  1  1  1  1  1  1  1  1  1  1  1  1  1  1  1\n",
      "  1  1  1  1  1  1  1  1  1  1  1  1  1  1  1  1  1  1  1  1  1  1  1  1\n",
      "  1  1  1  1  1  1  1  1  1  1  1  1  1  1  1 -1  1  1  1  1  1  1  1  1\n",
      "  1  1  1  1  1  1  1  1  1  1  1  1  1  1  1  1  1  1  1  1  1  1  1  1\n",
      "  1  1  1  1  1  1  1  1  1  1  1  1  1  1  1  1  1  1  1  1  1  1  1  1\n",
      "  1  1  1  1  1  1  1  1  1  1  1  1]\n"
     ]
    }
   ],
   "source": [
    "probability = model_Log.predict_proba(X_test_Log)\n",
    "predicted = model_Log.predict(X_test_Log)\n",
    "print(predicted)"
   ]
  },
  {
   "cell_type": "code",
   "execution_count": 9,
   "id": "5f671eb6-3794-4675-a593-8e6c58eb9561",
   "metadata": {},
   "outputs": [
    {
     "name": "stdout",
     "output_type": "stream",
     "text": [
      "[[  8 163]\n",
      " [ 13 188]]\n",
      "              precision    recall  f1-score   support\n",
      "\n",
      "          -1       0.38      0.05      0.08       171\n",
      "           1       0.54      0.94      0.68       201\n",
      "\n",
      "    accuracy                           0.53       372\n",
      "   macro avg       0.46      0.49      0.38       372\n",
      "weighted avg       0.46      0.53      0.41       372\n",
      "\n"
     ]
    }
   ],
   "source": [
    "print(metrics.confusion_matrix(y_test_Log, predicted))\n",
    "print(metrics.classification_report(y_test_Log, predicted))"
   ]
  },
  {
   "cell_type": "code",
   "execution_count": 10,
   "id": "76c8b88f-edcd-4c57-a8da-c63e42aa42cd",
   "metadata": {},
   "outputs": [],
   "source": [
    "train_loss = metrics.log_loss(y_train_Log, model_Log.predict_proba(X_train_Log))\n",
    "test_loss = metrics.log_loss(y_test_Log, model_Log.predict_proba(X_test_Log))\n",
    "train_accuracy = metrics.accuracy_score(y_train_Log, model_Log.predict(X_train_Log))\n",
    "test_accuracy = metrics.accuracy_score(y_test_Log, predicted)"
   ]
  },
  {
   "cell_type": "code",
   "execution_count": 11,
   "id": "3f5fc226-cc4b-437c-8876-e50572437129",
   "metadata": {},
   "outputs": [
    {
     "name": "stdout",
     "output_type": "stream",
     "text": [
      "Training Loss: 0.6927501693033524\n",
      "Validation Loss: 0.6913826336495793\n",
      "Training Accuracy: 0.5138248847926268\n",
      "Validation Accuracy: 0.5268817204301075\n"
     ]
    }
   ],
   "source": [
    "print(f\"Training Loss: {train_loss}\")\n",
    "print(f\"Validation Loss: {test_loss}\")\n",
    "print(f\"Training Accuracy: {train_accuracy}\")\n",
    "print(f\"Validation Accuracy: {test_accuracy}\")"
   ]
  },
  {
   "cell_type": "code",
   "execution_count": 12,
   "id": "463b1ec3-d6eb-41c9-adec-1b166b2fab2d",
   "metadata": {},
   "outputs": [
    {
     "name": "stderr",
     "output_type": "stream",
     "text": [
      "C:\\Users\\Jacob\\AppData\\Local\\Temp\\ipykernel_7976\\3502862756.py:1: SettingWithCopyWarning: \n",
      "A value is trying to be set on a copy of a slice from a DataFrame.\n",
      "Try using .loc[row_indexer,col_indexer] = value instead\n",
      "\n",
      "See the caveats in the documentation: https://pandas.pydata.org/pandas-docs/stable/user_guide/indexing.html#returning-a-view-versus-a-copy\n",
      "  data['Predicted_Signal'] = model_Log.predict(X_Log)\n",
      "C:\\Users\\Jacob\\AppData\\Local\\Temp\\ipykernel_7976\\3502862756.py:2: SettingWithCopyWarning: \n",
      "A value is trying to be set on a copy of a slice from a DataFrame.\n",
      "Try using .loc[row_indexer,col_indexer] = value instead\n",
      "\n",
      "See the caveats in the documentation: https://pandas.pydata.org/pandas-docs/stable/user_guide/indexing.html#returning-a-view-versus-a-copy\n",
      "  data['Meta_returns'] = np.log(data['Close'] / data['Close'].shift(1))\n",
      "C:\\Users\\Jacob\\AppData\\Local\\Temp\\ipykernel_7976\\3502862756.py:4: SettingWithCopyWarning: \n",
      "A value is trying to be set on a copy of a slice from a DataFrame.\n",
      "Try using .loc[row_indexer,col_indexer] = value instead\n",
      "\n",
      "See the caveats in the documentation: https://pandas.pydata.org/pandas-docs/stable/user_guide/indexing.html#returning-a-view-versus-a-copy\n",
      "  data['Strategy_returns'] = data['Meta_returns'] * data['Predicted_Signal'].shift(1)\n"
     ]
    }
   ],
   "source": [
    "data['Predicted_Signal'] = model_Log.predict(X_Log)\n",
    "data['Meta_returns'] = np.log(data['Close'] / data['Close'].shift(1))\n",
    "Cumulative_Meta_returns = np.cumsum(data[split:]['Meta_returns'])\n",
    "data['Strategy_returns'] = data['Meta_returns'] * data['Predicted_Signal'].shift(1)\n",
    "Cumulative_Strategy_returns = np.cumsum(data[split:]['Strategy_returns'])"
   ]
  },
  {
   "cell_type": "code",
   "execution_count": 13,
   "id": "a49c9716-f8de-49f2-9ad1-26ae77b98875",
   "metadata": {},
   "outputs": [
    {
     "data": {
      "image/png": "[encoded data removed]",
      "text/plain": [
       "<Figure size 1000x500 with 1 Axes>"
      ]
     },
     "metadata": {},
     "output_type": "display_data"
    }
   ],
   "source": [
    "plt.figure(figsize=(10, 5))\n",
    "plt.plot(Cumulative_Strategy_returns, color='g', label='Strategy Returns')\n",
    "plt.legend()\n",
    "plt.show()"
   ]
  },
  {
   "cell_type": "code",
   "execution_count": null,
   "id": "8da59aec-f337-44f2-a1d8-cddd8194c31f",
   "metadata": {},
   "outputs": [],
   "source": []
  }
 ],
 "metadata": {
  "kernelspec": {
   "display_name": "Python 3 (ipykernel)",
   "language": "python",
   "name": "python3"
  },
  "language_info": {
   "codemirror_mode": {
    "name": "ipython",
    "version": 3
   },
   "file_extension": ".py",
   "mimetype": "text/x-python",
   "name": "python",
   "nbconvert_exporter": "python",
   "pygments_lexer": "ipython3",
   "version": "3.9.18"
  }
 },
 "nbformat": 4,
 "nbformat_minor": 5
}
