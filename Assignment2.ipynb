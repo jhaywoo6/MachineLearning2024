{
 "cells": [
  {
   "cell_type": "code",
   "execution_count": 2,
   "id": "d2e45f9d-281a-4892-8cb3-351b92cfe333",
   "metadata": {
    "tags": []
   },
   "outputs": [],
   "source": [
    "%matplotlib inline\n",
    "import numpy as np\n",
    "import pandas as pd\n",
    "import matplotlib.pyplot as plt\n",
    "import seaborn as sns\n",
    "from tqdm import tqdm\n",
    "from sklearn.model_selection import train_test_split\n"
   ]
  },
  {
   "cell_type": "code",
   "execution_count": 3,
   "id": "296f5b07-0de5-443a-a9d3-d5996f4ae8e2",
   "metadata": {
    "jupyter": {
     "source_hidden": true
    }
   },
   "outputs": [
    {
     "data": {
      "text/plain": [
       "545"
      ]
     },
     "execution_count": 3,
     "metadata": {},
     "output_type": "execute_result"
    }
   ],
   "source": [
    "df = pd.read_csv('Housing.csv')\n",
    "df.head() \n",
    "M=len(df)\n",
    "M"
   ]
  },
  {
   "cell_type": "code",
   "execution_count": 4,
   "id": "8dd084d9-1cfd-4d2f-969a-15772c5377cf",
   "metadata": {
    "jupyter": {
     "source_hidden": true
    },
    "scrolled": true
   },
   "outputs": [
    {
     "data": {
      "text/html": [
       "<div>\n",
       "<style scoped>\n",
       "    .dataframe tbody tr th:only-of-type {\n",
       "        vertical-align: middle;\n",
       "    }\n",
       "\n",
       "    .dataframe tbody tr th {\n",
       "        vertical-align: top;\n",
       "    }\n",
       "\n",
       "    .dataframe thead th {\n",
       "        text-align: right;\n",
       "    }\n",
       "</style>\n",
       "<table border=\"1\" class=\"dataframe\">\n",
       "  <thead>\n",
       "    <tr style=\"text-align: right;\">\n",
       "      <th></th>\n",
       "      <th>price</th>\n",
       "      <th>area</th>\n",
       "      <th>bedrooms</th>\n",
       "      <th>bathrooms</th>\n",
       "      <th>stories</th>\n",
       "      <th>parking</th>\n",
       "    </tr>\n",
       "  </thead>\n",
       "  <tbody>\n",
       "    <tr>\n",
       "      <th>count</th>\n",
       "      <td>5.450000e+02</td>\n",
       "      <td>545.000000</td>\n",
       "      <td>545.000000</td>\n",
       "      <td>545.000000</td>\n",
       "      <td>545.000000</td>\n",
       "      <td>545.000000</td>\n",
       "    </tr>\n",
       "    <tr>\n",
       "      <th>mean</th>\n",
       "      <td>4.766729e+06</td>\n",
       "      <td>5150.541284</td>\n",
       "      <td>2.965138</td>\n",
       "      <td>1.286239</td>\n",
       "      <td>1.805505</td>\n",
       "      <td>0.693578</td>\n",
       "    </tr>\n",
       "    <tr>\n",
       "      <th>std</th>\n",
       "      <td>1.870440e+06</td>\n",
       "      <td>2170.141023</td>\n",
       "      <td>0.738064</td>\n",
       "      <td>0.502470</td>\n",
       "      <td>0.867492</td>\n",
       "      <td>0.861586</td>\n",
       "    </tr>\n",
       "    <tr>\n",
       "      <th>min</th>\n",
       "      <td>1.750000e+06</td>\n",
       "      <td>1650.000000</td>\n",
       "      <td>1.000000</td>\n",
       "      <td>1.000000</td>\n",
       "      <td>1.000000</td>\n",
       "      <td>0.000000</td>\n",
       "    </tr>\n",
       "    <tr>\n",
       "      <th>25%</th>\n",
       "      <td>3.430000e+06</td>\n",
       "      <td>3600.000000</td>\n",
       "      <td>2.000000</td>\n",
       "      <td>1.000000</td>\n",
       "      <td>1.000000</td>\n",
       "      <td>0.000000</td>\n",
       "    </tr>\n",
       "    <tr>\n",
       "      <th>50%</th>\n",
       "      <td>4.340000e+06</td>\n",
       "      <td>4600.000000</td>\n",
       "      <td>3.000000</td>\n",
       "      <td>1.000000</td>\n",
       "      <td>2.000000</td>\n",
       "      <td>0.000000</td>\n",
       "    </tr>\n",
       "    <tr>\n",
       "      <th>75%</th>\n",
       "      <td>5.740000e+06</td>\n",
       "      <td>6360.000000</td>\n",
       "      <td>3.000000</td>\n",
       "      <td>2.000000</td>\n",
       "      <td>2.000000</td>\n",
       "      <td>1.000000</td>\n",
       "    </tr>\n",
       "    <tr>\n",
       "      <th>max</th>\n",
       "      <td>1.330000e+07</td>\n",
       "      <td>16200.000000</td>\n",
       "      <td>6.000000</td>\n",
       "      <td>4.000000</td>\n",
       "      <td>4.000000</td>\n",
       "      <td>3.000000</td>\n",
       "    </tr>\n",
       "  </tbody>\n",
       "</table>\n",
       "</div>"
      ],
      "text/plain": [
       "              price          area    bedrooms   bathrooms     stories  \\\n",
       "count  5.450000e+02    545.000000  545.000000  545.000000  545.000000   \n",
       "mean   4.766729e+06   5150.541284    2.965138    1.286239    1.805505   \n",
       "std    1.870440e+06   2170.141023    0.738064    0.502470    0.867492   \n",
       "min    1.750000e+06   1650.000000    1.000000    1.000000    1.000000   \n",
       "25%    3.430000e+06   3600.000000    2.000000    1.000000    1.000000   \n",
       "50%    4.340000e+06   4600.000000    3.000000    1.000000    2.000000   \n",
       "75%    5.740000e+06   6360.000000    3.000000    2.000000    2.000000   \n",
       "max    1.330000e+07  16200.000000    6.000000    4.000000    4.000000   \n",
       "\n",
       "          parking  \n",
       "count  545.000000  \n",
       "mean     0.693578  \n",
       "std      0.861586  \n",
       "min      0.000000  \n",
       "25%      0.000000  \n",
       "50%      0.000000  \n",
       "75%      1.000000  \n",
       "max      3.000000  "
      ]
     },
     "execution_count": 4,
     "metadata": {},
     "output_type": "execute_result"
    }
   ],
   "source": [
    "#Description\n",
    "df.describe()"
   ]
  },
  {
   "cell_type": "code",
   "execution_count": 5,
   "id": "989bf3e8-ca85-420d-8a1b-dc8cd3a76c55",
   "metadata": {},
   "outputs": [],
   "source": [
    "iterations = 200\n",
    "learning_rate = 0.01"
   ]
  },
  {
   "cell_type": "code",
   "execution_count": 6,
   "id": "fbd25b79-a20c-4ab9-b4cb-af4e213a3d89",
   "metadata": {},
   "outputs": [
    {
     "data": {
      "text/html": [
       "<div>\n",
       "<style scoped>\n",
       "    .dataframe tbody tr th:only-of-type {\n",
       "        vertical-align: middle;\n",
       "    }\n",
       "\n",
       "    .dataframe tbody tr th {\n",
       "        vertical-align: top;\n",
       "    }\n",
       "\n",
       "    .dataframe thead th {\n",
       "        text-align: right;\n",
       "    }\n",
       "</style>\n",
       "<table border=\"1\" class=\"dataframe\">\n",
       "  <thead>\n",
       "    <tr style=\"text-align: right;\">\n",
       "      <th></th>\n",
       "      <th>area</th>\n",
       "      <th>bedrooms</th>\n",
       "      <th>bathrooms</th>\n",
       "      <th>stories</th>\n",
       "      <th>parking</th>\n",
       "      <th>price</th>\n",
       "      <th>mainroad</th>\n",
       "      <th>guestroom</th>\n",
       "      <th>basement</th>\n",
       "      <th>hotwaterheating</th>\n",
       "      <th>airconditioning</th>\n",
       "      <th>prefarea</th>\n",
       "    </tr>\n",
       "  </thead>\n",
       "  <tbody>\n",
       "    <tr>\n",
       "      <th>46</th>\n",
       "      <td>6000</td>\n",
       "      <td>3</td>\n",
       "      <td>2</td>\n",
       "      <td>4</td>\n",
       "      <td>1</td>\n",
       "      <td>7525000</td>\n",
       "      <td>1</td>\n",
       "      <td>0</td>\n",
       "      <td>0</td>\n",
       "      <td>0</td>\n",
       "      <td>1</td>\n",
       "      <td>0</td>\n",
       "    </tr>\n",
       "    <tr>\n",
       "      <th>93</th>\n",
       "      <td>7200</td>\n",
       "      <td>3</td>\n",
       "      <td>2</td>\n",
       "      <td>1</td>\n",
       "      <td>3</td>\n",
       "      <td>6300000</td>\n",
       "      <td>1</td>\n",
       "      <td>0</td>\n",
       "      <td>1</td>\n",
       "      <td>0</td>\n",
       "      <td>1</td>\n",
       "      <td>0</td>\n",
       "    </tr>\n",
       "    <tr>\n",
       "      <th>335</th>\n",
       "      <td>3816</td>\n",
       "      <td>2</td>\n",
       "      <td>1</td>\n",
       "      <td>1</td>\n",
       "      <td>2</td>\n",
       "      <td>3920000</td>\n",
       "      <td>1</td>\n",
       "      <td>0</td>\n",
       "      <td>1</td>\n",
       "      <td>0</td>\n",
       "      <td>1</td>\n",
       "      <td>0</td>\n",
       "    </tr>\n",
       "    <tr>\n",
       "      <th>412</th>\n",
       "      <td>2610</td>\n",
       "      <td>3</td>\n",
       "      <td>1</td>\n",
       "      <td>2</td>\n",
       "      <td>0</td>\n",
       "      <td>3430000</td>\n",
       "      <td>1</td>\n",
       "      <td>0</td>\n",
       "      <td>1</td>\n",
       "      <td>0</td>\n",
       "      <td>0</td>\n",
       "      <td>1</td>\n",
       "    </tr>\n",
       "    <tr>\n",
       "      <th>471</th>\n",
       "      <td>3750</td>\n",
       "      <td>3</td>\n",
       "      <td>1</td>\n",
       "      <td>2</td>\n",
       "      <td>0</td>\n",
       "      <td>3010000</td>\n",
       "      <td>1</td>\n",
       "      <td>0</td>\n",
       "      <td>0</td>\n",
       "      <td>0</td>\n",
       "      <td>0</td>\n",
       "      <td>0</td>\n",
       "    </tr>\n",
       "    <tr>\n",
       "      <th>...</th>\n",
       "      <td>...</td>\n",
       "      <td>...</td>\n",
       "      <td>...</td>\n",
       "      <td>...</td>\n",
       "      <td>...</td>\n",
       "      <td>...</td>\n",
       "      <td>...</td>\n",
       "      <td>...</td>\n",
       "      <td>...</td>\n",
       "      <td>...</td>\n",
       "      <td>...</td>\n",
       "      <td>...</td>\n",
       "    </tr>\n",
       "    <tr>\n",
       "      <th>71</th>\n",
       "      <td>6000</td>\n",
       "      <td>4</td>\n",
       "      <td>2</td>\n",
       "      <td>4</td>\n",
       "      <td>0</td>\n",
       "      <td>6755000</td>\n",
       "      <td>1</td>\n",
       "      <td>0</td>\n",
       "      <td>0</td>\n",
       "      <td>0</td>\n",
       "      <td>1</td>\n",
       "      <td>0</td>\n",
       "    </tr>\n",
       "    <tr>\n",
       "      <th>106</th>\n",
       "      <td>5450</td>\n",
       "      <td>4</td>\n",
       "      <td>2</td>\n",
       "      <td>1</td>\n",
       "      <td>0</td>\n",
       "      <td>6160000</td>\n",
       "      <td>1</td>\n",
       "      <td>0</td>\n",
       "      <td>1</td>\n",
       "      <td>0</td>\n",
       "      <td>1</td>\n",
       "      <td>1</td>\n",
       "    </tr>\n",
       "    <tr>\n",
       "      <th>270</th>\n",
       "      <td>4500</td>\n",
       "      <td>3</td>\n",
       "      <td>2</td>\n",
       "      <td>3</td>\n",
       "      <td>1</td>\n",
       "      <td>4340000</td>\n",
       "      <td>1</td>\n",
       "      <td>0</td>\n",
       "      <td>0</td>\n",
       "      <td>1</td>\n",
       "      <td>0</td>\n",
       "      <td>0</td>\n",
       "    </tr>\n",
       "    <tr>\n",
       "      <th>435</th>\n",
       "      <td>4040</td>\n",
       "      <td>2</td>\n",
       "      <td>1</td>\n",
       "      <td>1</td>\n",
       "      <td>0</td>\n",
       "      <td>3290000</td>\n",
       "      <td>1</td>\n",
       "      <td>0</td>\n",
       "      <td>0</td>\n",
       "      <td>0</td>\n",
       "      <td>0</td>\n",
       "      <td>0</td>\n",
       "    </tr>\n",
       "    <tr>\n",
       "      <th>102</th>\n",
       "      <td>5500</td>\n",
       "      <td>3</td>\n",
       "      <td>2</td>\n",
       "      <td>4</td>\n",
       "      <td>1</td>\n",
       "      <td>6195000</td>\n",
       "      <td>1</td>\n",
       "      <td>1</td>\n",
       "      <td>0</td>\n",
       "      <td>0</td>\n",
       "      <td>1</td>\n",
       "      <td>0</td>\n",
       "    </tr>\n",
       "  </tbody>\n",
       "</table>\n",
       "<p>436 rows × 12 columns</p>\n",
       "</div>"
      ],
      "text/plain": [
       "     area  bedrooms  bathrooms  stories  parking    price  mainroad  \\\n",
       "46   6000         3          2        4        1  7525000         1   \n",
       "93   7200         3          2        1        3  6300000         1   \n",
       "335  3816         2          1        1        2  3920000         1   \n",
       "412  2610         3          1        2        0  3430000         1   \n",
       "471  3750         3          1        2        0  3010000         1   \n",
       "..    ...       ...        ...      ...      ...      ...       ...   \n",
       "71   6000         4          2        4        0  6755000         1   \n",
       "106  5450         4          2        1        0  6160000         1   \n",
       "270  4500         3          2        3        1  4340000         1   \n",
       "435  4040         2          1        1        0  3290000         1   \n",
       "102  5500         3          2        4        1  6195000         1   \n",
       "\n",
       "     guestroom  basement  hotwaterheating  airconditioning  prefarea  \n",
       "46           0         0                0                1         0  \n",
       "93           0         1                0                1         0  \n",
       "335          0         1                0                1         0  \n",
       "412          0         1                0                0         1  \n",
       "471          0         0                0                0         0  \n",
       "..         ...       ...              ...              ...       ...  \n",
       "71           0         0                0                1         0  \n",
       "106          0         1                0                1         1  \n",
       "270          0         0                1                0         0  \n",
       "435          0         0                0                0         0  \n",
       "102          1         0                0                1         0  \n",
       "\n",
       "[436 rows x 12 columns]"
      ]
     },
     "execution_count": 6,
     "metadata": {},
     "output_type": "execute_result"
    }
   ],
   "source": [
    "df.replace({'yes': 1, 'no': 0}, inplace=True)\n",
    "df_reg = df[['price', 'area', 'bedrooms', 'bathrooms', 'stories', 'parking', 'mainroad', 'guestroom','basement', 'hotwaterheating', 'airconditioning','prefarea']]\n",
    "data=df_reg[['area', 'bedrooms', 'bathrooms', 'stories', 'parking', 'price', 'mainroad', 'guestroom','basement', 'hotwaterheating', 'airconditioning','prefarea']]\n",
    "\n",
    "train_data, eval_data = train_test_split(data, test_size=0.2, random_state=42)\n",
    "train_data\n"
   ]
  },
  {
   "cell_type": "code",
   "execution_count": 7,
   "id": "0d3a952b-9cc4-4586-bd0a-6f7f76f0804d",
   "metadata": {},
   "outputs": [],
   "source": [
    "X1at=train_data[['area', 'bedrooms', 'bathrooms', 'stories', 'parking']]\n",
    "X1at=(X1at-X1at.mean())/X1at.std()\n",
    "X1at=X1at.values\n",
    "X1ae=eval_data[['area', 'bedrooms', 'bathrooms', 'stories', 'parking']]\n",
    "X1ae=(X1ae-X1ae.mean())/X1ae.std()\n",
    "X1ae=X1ae.values"
   ]
  },
  {
   "cell_type": "code",
   "execution_count": 8,
   "id": "3019e66b-e1db-4531-bcae-6cbb6cf1051f",
   "metadata": {},
   "outputs": [],
   "source": [
    "Yt = train_data[['price']]\n",
    "Yt=Yt.values\n",
    "Ye = eval_data[['price']]\n",
    "Ye=Ye.values"
   ]
  },
  {
   "cell_type": "code",
   "execution_count": 9,
   "id": "76fde832-1f72-49d0-88cc-53ea3e096d67",
   "metadata": {},
   "outputs": [],
   "source": [
    "def predicted_y(theta,x,intercept):\n",
    "    y_lst=[]\n",
    "    for i in range(len(x)):\n",
    "        y_lst.append(theta@x[i]+intercept)\n",
    "    return np.array(y_lst)\n",
    "\n",
    "def loss(y,y_predicted):\n",
    "    n=len(y)\n",
    "    s=0\n",
    "    for i in range(n):\n",
    "        s+=(y[i]-y_predicted[i])**2\n",
    "    return (1/n)*s\n",
    "\n",
    "def dldt(x,y,y_predicted):\n",
    "    s=0\n",
    "    n=len(y)\n",
    "    for i in range(n):\n",
    "        s+=-x[i]*(y[i]-y_predicted[i])\n",
    "    return (2/n)*s\n",
    "\n",
    "def dldb(y,y_predicted):\n",
    "    n=len(y)\n",
    "    s=0\n",
    "    for i in range(len(y)):\n",
    "        s+=-(y[i]-y_predicted[i])\n",
    "    return (2/n) * s\n",
    "\n",
    "def gradient_descent(x,y,learning_rate,iterations):\n",
    "    theta_vector=np.zeros(x.shape[1])\n",
    "    intercept=0\n",
    "    n = len(x)\n",
    "    linear_loss=[]\n",
    "\n",
    "    for i in range(iterations):\n",
    "        \n",
    "        \n",
    "        y_predicted = predicted_y(theta_vector,x,intercept)\n",
    "        \n",
    "        theta_vector = theta_vector - learning_rate *dldt(x,y,y_predicted) \n",
    "        \n",
    "        \n",
    "        intercept = intercept - learning_rate * dldb(y,y_predicted)\n",
    "        linear_loss.append(loss(y,y_predicted))\n",
    "    \n",
    "    return theta_vector,intercept, linear_loss"
   ]
  },
  {
   "cell_type": "code",
   "execution_count": 10,
   "id": "1588c9b5-7522-4175-9157-79f20c593f99",
   "metadata": {},
   "outputs": [],
   "source": [
    "t,b,l=gradient_descent(X1at,Yt,learning_rate,iterations)"
   ]
  },
  {
   "cell_type": "code",
   "execution_count": 11,
   "id": "20c99a6c-45bf-4c07-8c64-132b0911316c",
   "metadata": {},
   "outputs": [
    {
     "name": "stdout",
     "output_type": "stream",
     "text": [
      "theta: [665149.58165594 141200.38682384 552882.93803997 410443.7244609\n",
      " 299885.77102453]\n",
      "bias: [4623749.23296971]\n"
     ]
    }
   ],
   "source": [
    "print(\"theta:\",t)\n",
    "print(\"bias:\",b)"
   ]
  },
  {
   "cell_type": "code",
   "execution_count": 12,
   "id": "2bb6356f-0b4d-4169-a800-4d6d513b4d76",
   "metadata": {},
   "outputs": [],
   "source": [
    "def predict(inp, t, b):\n",
    "    y_lst=[]\n",
    "    for i in range(len(inp)):\n",
    "        y_lst.append(t@inp[i]+b)\n",
    "    return np.array(y_lst)"
   ]
  },
  {
   "cell_type": "code",
   "execution_count": 13,
   "id": "fb84e67f-e683-421a-ac52-265a6442f1d4",
   "metadata": {},
   "outputs": [],
   "source": [
    "y_pred=predict(X1ae, t, b)"
   ]
  },
  {
   "cell_type": "code",
   "execution_count": 14,
   "id": "7f66459d-9bd5-492e-b35d-fc18ac98d0f0",
   "metadata": {},
   "outputs": [],
   "source": [
    "def lossComp(y, y_predicted, iterations, linear_loss):\n",
    "    experimental_loss=[]\n",
    "    for i in range(iterations):\n",
    "        experimental_loss.append(loss(y,y_predicted))\n",
    "    plt.plot(np.arange(1,iterations),linear_loss[1:])\n",
    "    plt.plot(np.arange(1,iterations),experimental_loss[1:])\n",
    "    plt.xlabel(\"number of iterations\")\n",
    "    plt.ylabel(\"loss\")"
   ]
  },
  {
   "cell_type": "code",
   "execution_count": 15,
   "id": "6db18b05-17a9-45df-b410-502ec0296dd4",
   "metadata": {},
   "outputs": [
    {
     "data": {
      "image/png": "[encoded data removed]",
      "text/plain": [
       "<Figure size 640x480 with 1 Axes>"
      ]
     },
     "metadata": {},
     "output_type": "display_data"
    }
   ],
   "source": [
    "lossComp(Ye, y_pred, iterations, l)"
   ]
  },
  {
   "cell_type": "code",
   "execution_count": 16,
   "id": "8a473b91-b25c-4ea7-b667-89e3843ddc84",
   "metadata": {},
   "outputs": [],
   "source": [
    "X1bt=train_data[['area', 'bedrooms', 'bathrooms', 'stories', 'parking','mainroad', 'guestroom','basement', 'hotwaterheating', 'airconditioning','prefarea']]\n",
    "X1bt=(X1bt-X1bt.mean())/X1bt.std()\n",
    "X1bt=X1bt.values\n",
    "X1be=eval_data[['area', 'bedrooms', 'bathrooms', 'stories', 'parking','mainroad', 'guestroom','basement', 'hotwaterheating', 'airconditioning','prefarea']]\n",
    "X1be=(X1be-X1be.mean())/X1be.std()\n",
    "X1be=X1be.values"
   ]
  },
  {
   "cell_type": "code",
   "execution_count": 17,
   "id": "2fc7d852-7a3a-4af9-bad8-5ec59c7bae9b",
   "metadata": {},
   "outputs": [],
   "source": [
    "t2,b2,l2=gradient_descent(X1bt,Yt,learning_rate,iterations)"
   ]
  },
  {
   "cell_type": "code",
   "execution_count": 18,
   "id": "a664a5ad-0e79-4885-b46b-40eb53ba01de",
   "metadata": {},
   "outputs": [
    {
     "name": "stdout",
     "output_type": "stream",
     "text": [
      "theta: [504926.19719824  92710.52451038 515442.60724878 342937.81788906\n",
      " 221087.20361399 158177.59394075 111285.58249579 188796.99542608\n",
      " 152973.58907092 375413.69405091 264526.21827774]\n",
      "bias: [4623749.23296971]\n"
     ]
    }
   ],
   "source": [
    "print(\"theta:\",t2)\n",
    "print(\"bias:\",b2)"
   ]
  },
  {
   "cell_type": "code",
   "execution_count": 19,
   "id": "eb4ffd5c-0fb2-4e0c-b1d8-4008b9763805",
   "metadata": {},
   "outputs": [],
   "source": [
    "y_pred2=predict(X1be, t2, b2)"
   ]
  },
  {
   "cell_type": "code",
   "execution_count": 20,
   "id": "754f4c4e-13a9-4123-bc11-422b3648d94e",
   "metadata": {},
   "outputs": [],
   "source": [
    "def lossCompDouble(y, y_predictedA, y_predictedB, iterations, linear_lossA, linear_lossB):\n",
    "    experimental_lossA=[]\n",
    "    experimental_lossB=[]\n",
    "    for i in range(iterations):\n",
    "        experimental_lossA.append(loss(y,y_predictedA))\n",
    "    for i in range(iterations):\n",
    "        experimental_lossB.append(loss(y,y_predictedB))\n",
    "    plt.plot(np.arange(1,iterations),linear_lossA[1:], label='Loss Training', linestyle='-', marker='x', color='b')\n",
    "    plt.plot(np.arange(1,iterations),experimental_lossA[1:], label='Loss Validation', linestyle='-', marker='x', color='b')\n",
    "    plt.plot(np.arange(1,iterations),linear_lossB[1:], label='Normalize Training', linestyle='--', marker='s', color='r')\n",
    "    plt.plot(np.arange(1,iterations),experimental_lossB[1:], label='Normalize Validation', linestyle='--', marker='s', color='r')\n",
    "    plt.xlabel(\"number of iterations\")\n",
    "    plt.ylabel(\"loss\")"
   ]
  },
  {
   "cell_type": "code",
   "execution_count": 21,
   "id": "f74b9ccc-cac3-4c15-bd20-f354c4ae2c2b",
   "metadata": {},
   "outputs": [
    {
     "data": {
      "image/png": "[encoded data removed]",
      "text/plain": [
       "<Figure size 640x480 with 1 Axes>"
      ]
     },
     "metadata": {},
     "output_type": "display_data"
    }
   ],
   "source": [
    "lossCompDouble(Ye, y_pred, y_pred2, iterations, l, l2)\n",
    "#With the additional binary classifications, the overall loss has decreased. Blue for 1a, red for 1b."
   ]
  },
  {
   "cell_type": "code",
   "execution_count": 22,
   "id": "0badf8c1-88bb-4cfc-a008-c14202ceb9a0",
   "metadata": {},
   "outputs": [],
   "source": [
    "def normalize(X):\n",
    "    X_min = np.min(X, axis=0)\n",
    "    X_max = np.max(X, axis=0)\n",
    "    X_norm = (X - X_min) / (X_max - X_min)\n",
    "    return X_norm"
   ]
  },
  {
   "cell_type": "code",
   "execution_count": 23,
   "id": "ae2f2e6a-fc40-47cf-9e1e-ef21a4d5a83f",
   "metadata": {},
   "outputs": [],
   "source": [
    "def standardize(X):\n",
    "    mu = np.mean(X, axis=0)\n",
    "    sigma = np.std(X, axis=0)\n",
    "    X_std = (X - mu) / sigma\n",
    "    return X_std"
   ]
  },
  {
   "cell_type": "code",
   "execution_count": 24,
   "id": "30b157ec-12b1-4499-a4fc-7d32dbfe75ca",
   "metadata": {},
   "outputs": [],
   "source": [
    "X2atn=normalize(X1at)\n",
    "X2aen=normalize(X1ae)"
   ]
  },
  {
   "cell_type": "code",
   "execution_count": 25,
   "id": "9d5b8f55-18d7-4f15-8d3a-99e2ef18847a",
   "metadata": {},
   "outputs": [],
   "source": [
    "X2ats=standardize(X1at)\n",
    "X2aes=standardize(X1ae)"
   ]
  },
  {
   "cell_type": "code",
   "execution_count": null,
   "id": "b60beb29-3ea1-4a2c-998e-61b2ab77ad86",
   "metadata": {},
   "outputs": [],
   "source": [
    "t3,b3,l3=gradient_descent(X2atn,Yt,learning_rate,iterations)\n",
    "t4,b4,l4=gradient_descent(X2ats,Yt,learning_rate,iterations)\n",
    "y_pred3=predict(X2aen, t3, b3)\n",
    "y_pred4=predict(X2aes, t4, b4)"
   ]
  },
  {
   "cell_type": "code",
   "execution_count": null,
   "id": "18cb0e82-f935-4bae-882b-f2bc9e3c7dbf",
   "metadata": {},
   "outputs": [],
   "source": [
    "def lossCompTriple(y, y_predictedA, y_predictedB, y_predictedC, iterations, linear_lossA, linear_lossB, linear_lossC):\n",
    "    experimental_lossA=[]\n",
    "    experimental_lossB=[]\n",
    "    experimental_lossC=[]\n",
    "    for i in range(iterations):\n",
    "        experimental_lossA.append(loss(y,y_predictedA))\n",
    "    for i in range(iterations):\n",
    "        experimental_lossB.append(loss(y,y_predictedB))\n",
    "    for i in range(iterations):\n",
    "        experimental_lossC.append(loss(y,y_predictedC))\n",
    "    plt.plot(np.arange(1,iterations),linear_lossA[1:], label='Loss Training', linestyle='-', marker='o', color='b')\n",
    "    plt.plot(np.arange(1,iterations),experimental_lossA[1:], label='Loss Validation', linestyle='-', marker='o', color='b')\n",
    "    plt.plot(np.arange(1,iterations),linear_lossB[1:], label='Normalize Training', linestyle='--', marker='x', color='r')\n",
    "    plt.plot(np.arange(1,iterations),experimental_lossB[1:], label='Normalize Validation', linestyle='--', marker='x', color='r')\n",
    "    plt.plot(np.arange(1,iterations),linear_lossC[1:], label='Standardized Training', linestyle='-.', marker='s', color='g')\n",
    "    plt.plot(np.arange(1,iterations),experimental_lossC[1:], label='Standardized Training', linestyle='-.', marker='s', color='g')\n",
    "    plt.xlabel(\"number of iterations\")\n",
    "    plt.ylabel(\"loss\")"
   ]
  },
  {
   "cell_type": "code",
   "execution_count": null,
   "id": "5651f3af-9a60-4842-ad7b-9047be6461b7",
   "metadata": {},
   "outputs": [],
   "source": [
    "lossCompTriple(Ye, y_pred, y_pred3, y_pred4, iterations, l, l3, l4)\n",
    "#Red is Normalized, Green is standardized\n",
    "#Note: Differences between Loss and Standardized are minimal. Former is blue, latter is green.Normalization has an impact in speading up learning slightly and increasing evaluation loss, increasing end loss."
   ]
  },
  {
   "cell_type": "code",
   "execution_count": null,
   "id": "097006ab-b887-4092-998d-e64efd070cff",
   "metadata": {},
   "outputs": [],
   "source": [
    "X2btn=normalize(X1bt)\n",
    "X2ben=normalize(X1be)"
   ]
  },
  {
   "cell_type": "code",
   "execution_count": null,
   "id": "5efc332c-46f1-4b34-a6aa-1c3ed2f48a4f",
   "metadata": {},
   "outputs": [],
   "source": [
    "X2bts=standardize(X1bt)\n",
    "X2bes=standardize(X1be)"
   ]
  },
  {
   "cell_type": "code",
   "execution_count": null,
   "id": "aa069ee1-cef1-42be-bcfb-b4e87db70c07",
   "metadata": {},
   "outputs": [],
   "source": [
    "t5,b5,l5=gradient_descent(X2btn,Yt,learning_rate,iterations)\n",
    "t6,b6,l6=gradient_descent(X2bts,Yt,learning_rate,iterations)\n",
    "y_pred5=predict(X2ben, t5, b5)\n",
    "y_pred6=predict(X2bes, t6, b6)"
   ]
  },
  {
   "cell_type": "code",
   "execution_count": null,
   "id": "9ee84d36-c547-4617-b9be-bb74b6e4f281",
   "metadata": {},
   "outputs": [],
   "source": [
    "lossCompTriple(Ye, y_pred2, y_pred5, y_pred6, iterations, l2, l5, l6)\n",
    "#Red is Normalized, Green is standardized\n",
    "#More binary data has a noticable inpact in further speeding up normal graph loss reduction and has a slightly lower evaluation loss"
   ]
  },
  {
   "cell_type": "code",
   "execution_count": null,
   "id": "9afdc483-e26c-4965-9d40-d3ee4ab4cfca",
   "metadata": {},
   "outputs": [],
   "source": [
    "def lossRidge(y,y_predicted,theta,Lambda):\n",
    "    n=len(y)\n",
    "    s=0\n",
    "    for i in range(n):\n",
    "        s+=(y[i]-y_predicted[i])**2\n",
    "    Ridge = Lambda * sum(t**2 for t in theta)\n",
    "    \n",
    "    return (1/n)*s + Ridge"
   ]
  },
  {
   "cell_type": "code",
   "execution_count": null,
   "id": "fc71eeda-0d01-4b87-9532-60597b009899",
   "metadata": {},
   "outputs": [],
   "source": [
    "def gradient_descentRidge(x,y,learning_rate,iterations):\n",
    "    theta_vector=np.zeros(x.shape[1])\n",
    "    intercept=0\n",
    "    n = len(x)\n",
    "    linear_loss=[]\n",
    "    Lambda = 0.20\n",
    "\n",
    "    for i in range(iterations):\n",
    "        \n",
    "        \n",
    "        y_predicted = predicted_y(theta_vector,x,intercept)\n",
    "        \n",
    "        theta_vector = theta_vector - learning_rate *dldt(x,y,y_predicted) \n",
    "        \n",
    "        \n",
    "        intercept = intercept - learning_rate * dldb(y,y_predicted)\n",
    "        linear_loss.append(lossRidge(y,y_predicted,theta_vector,Lambda))\n",
    "    \n",
    "    return theta_vector,intercept, linear_loss"
   ]
  },
  {
   "cell_type": "code",
   "execution_count": null,
   "id": "7222ed46-1cee-412b-a4ca-b14ae3f874be",
   "metadata": {},
   "outputs": [],
   "source": [
    "t7,b7,l7=gradient_descentRidge(X2atn,Yt,learning_rate,iterations)\n",
    "t8,b8,l8=gradient_descentRidge(X2ats,Yt,learning_rate,iterations)\n",
    "y_pred7=predict(X2aen, t7, b7)\n",
    "y_pred8=predict(X2aes, t8, b8)"
   ]
  },
  {
   "cell_type": "code",
   "execution_count": null,
   "id": "eed7be0f-b251-4d69-b5d0-a4b5ac0c9d0f",
   "metadata": {},
   "outputs": [],
   "source": [
    "lossCompDouble(Ye, y_pred7, y_pred8, iterations, l7, l8)\n",
    "#Sandardized is Red, Normlized is Blue\n",
    "#With Ridge implemented for studying this complex data, Standardization now has overall lower loss than normalization."
   ]
  },
  {
   "cell_type": "code",
   "execution_count": null,
   "id": "848565ab-2d67-4664-9bc7-6e17f9c0d929",
   "metadata": {},
   "outputs": [],
   "source": [
    "t9,b9,l9=gradient_descentRidge(X2btn,Yt,learning_rate,iterations)\n",
    "t0,b0,l0=gradient_descentRidge(X2bts,Yt,learning_rate,iterations)\n",
    "y_pred5=predict(X2ben, t9, b9)\n",
    "y_pred6=predict(X2bes, t0, b0)"
   ]
  },
  {
   "cell_type": "code",
   "execution_count": null,
   "id": "571a3b18-9a55-4fce-9b3b-5059fb0515d6",
   "metadata": {},
   "outputs": [],
   "source": [
    "lossCompDouble(Ye, y_pred9, y_pred0, iterations, l9, l0)"
   ]
  }
 ],
 "metadata": {
  "kernelspec": {
   "display_name": "Python 3 (ipykernel)",
   "language": "python",
   "name": "python3"
  },
  "language_info": {
   "codemirror_mode": {
    "name": "ipython",
    "version": 3
   },
   "file_extension": ".py",
   "mimetype": "text/x-python",
   "name": "python",
   "nbconvert_exporter": "python",
   "pygments_lexer": "ipython3",
   "version": "3.11.7"
  }
 },
 "nbformat": 4,
 "nbformat_minor": 5
}
