{
 "cells": [
  {
   "cell_type": "code",
   "execution_count": 3,
   "id": "1012bf35-1ac1-4c5f-b55a-c724e7b565a3",
   "metadata": {},
   "outputs": [],
   "source": [
    "#By Jacob Haywood \n",
    "#Student ID: 801182240\n",
    "#ChatGPT was used during the learning process to help with coding and debuging.\n",
    "#Significant code was taken from Lecture 12-Gradient_Descent_BackPropogation as this is the lecture the assignment referenced"
   ]
  },
  {
   "cell_type": "code",
   "execution_count": 4,
   "id": "7a5e3065-ddfb-440c-93ac-d8b5bfe78a74",
   "metadata": {},
   "outputs": [],
   "source": [
    "import torch\n",
    "%matplotlib inline\n",
    "import numpy as np\n",
    "import pandas as pd\n",
    "import matplotlib.pyplot as plt\n",
    "from sklearn.model_selection import train_test_split\n",
    "from sklearn.preprocessing import StandardScaler\n",
    "import matplotlib.pyplot as plt\n",
    "import seaborn as sns\n",
    "from scipy import stats"
   ]
  },
  {
   "cell_type": "code",
   "execution_count": 5,
   "id": "04f5a329-4b1a-43d7-96cb-2c2d7e0ec552",
   "metadata": {},
   "outputs": [],
   "source": [
    "def model(t_u, w, b):\n",
    "    return w * t_u + b"
   ]
  },
  {
   "cell_type": "code",
   "execution_count": 6,
   "id": "73380bed-8ff0-4339-8cbc-07fecf09bb5a",
   "metadata": {},
   "outputs": [],
   "source": [
    "def loss_fn(t_p, t_c):\n",
    "    squared_diffs = (t_p - t_c)**2\n",
    "    return squared_diffs.mean()"
   ]
  },
  {
   "cell_type": "code",
   "execution_count": 7,
   "id": "b3f4084b-3458-48f8-bbd4-527ad74b4525",
   "metadata": {},
   "outputs": [],
   "source": [
    "t_c = [0.5, 14.0, 15.0, 28.0, 11.0, 8.0, 3.0, -4.0, 6.0, 13.0, 21.0]\n",
    "t_u = [35.7, 55.9, 58.2, 81.9, 56.3, 48.9, 33.9, 21.8, 48.4, 60.4, 68.4]"
   ]
  },
  {
   "cell_type": "code",
   "execution_count": 8,
   "id": "155526fe-c39c-480a-b898-8d20a4ce5306",
   "metadata": {},
   "outputs": [],
   "source": [
    "t_c = torch.tensor(t_c)\n",
    "t_u = torch.tensor(t_u)"
   ]
  },
  {
   "cell_type": "code",
   "execution_count": 9,
   "id": "8ab92da9-b172-4f8b-99a7-a915e20da8a9",
   "metadata": {},
   "outputs": [],
   "source": [
    "t_un = (t_u - t_u.mean()) / t_u.std()"
   ]
  },
  {
   "cell_type": "code",
   "execution_count": 10,
   "id": "cc5c8bd9-437d-45b3-8a6f-5dd0e56fddf5",
   "metadata": {},
   "outputs": [
    {
     "data": {
      "text/plain": [
       "tensor([35.7000, 55.9000, 58.2000, 81.9000, 56.3000, 48.9000, 33.9000, 21.8000,\n",
       "        48.4000, 60.4000, 68.4000])"
      ]
     },
     "execution_count": 10,
     "metadata": {},
     "output_type": "execute_result"
    }
   ],
   "source": [
    "w = torch.ones(())\n",
    "b = torch.zeros(())\n",
    "t_p = model(t_u, w, b)\n",
    "t_p"
   ]
  },
  {
   "cell_type": "code",
   "execution_count": 11,
   "id": "75ca2ce9-9dc3-4ad5-9938-f2026db6682d",
   "metadata": {},
   "outputs": [
    {
     "data": {
      "text/plain": [
       "tensor(1763.8848)"
      ]
     },
     "execution_count": 11,
     "metadata": {},
     "output_type": "execute_result"
    }
   ],
   "source": [
    "loss = loss_fn(t_p, t_c)\n",
    "loss"
   ]
  },
  {
   "cell_type": "code",
   "execution_count": 12,
   "id": "094fa56f-a2ab-4770-8ebb-249828dda0a4",
   "metadata": {},
   "outputs": [
    {
     "data": {
      "text/plain": [
       "tensor([4517.2969,   82.6000])"
      ]
     },
     "execution_count": 12,
     "metadata": {},
     "output_type": "execute_result"
    }
   ],
   "source": [
    "params = torch.tensor([1.0, 0.0], requires_grad=True)\n",
    "loss = loss_fn(model(t_u, *params), t_c)\n",
    "loss.backward()\n",
    "params.grad"
   ]
  },
  {
   "cell_type": "code",
   "execution_count": 13,
   "id": "9093b385-b303-409d-a7b8-4d6e2adbd573",
   "metadata": {},
   "outputs": [],
   "source": [
    "def training_loop(n_epochs, learning_rate, params, t_u, t_c):\n",
    "    for epoch in range(1, n_epochs + 1):\n",
    "        if params.grad is not None:\n",
    "            params.grad.zero_()\n",
    "            \n",
    "        t_p = model(t_u, *params)\n",
    "        loss = loss_fn(t_p, t_c)\n",
    "        loss.backward()\n",
    "\n",
    "        with torch.no_grad():\n",
    "            params -= learning_rate * params.grad\n",
    "    \n",
    "        if epoch % 500 == 0:\n",
    "            print('Epoch %d, Loss %f' % (epoch, float(loss)))\n",
    "\n",
    "    return params"
   ]
  },
  {
   "cell_type": "code",
   "execution_count": 14,
   "id": "2e4ac9a0-2a94-4b84-a4f8-3eb9304d5834",
   "metadata": {},
   "outputs": [
    {
     "name": "stdout",
     "output_type": "stream",
     "text": [
      "Epoch 500, Loss 2.927646\n",
      "Epoch 1000, Loss 2.927645\n",
      "Epoch 1500, Loss 2.927645\n",
      "Epoch 2000, Loss 2.927645\n",
      "Epoch 2500, Loss 2.927645\n",
      "Epoch 3000, Loss 2.927645\n",
      "Epoch 3500, Loss 2.927645\n",
      "Epoch 4000, Loss 2.927645\n",
      "Epoch 4500, Loss 2.927645\n",
      "Epoch 5000, Loss 2.927645\n"
     ]
    },
    {
     "data": {
      "text/plain": [
       "tensor([ 9.0349, 10.5000], requires_grad=True)"
      ]
     },
     "execution_count": 14,
     "metadata": {},
     "output_type": "execute_result"
    }
   ],
   "source": [
    "training_loop(n_epochs = 5000, learning_rate = 1e-2, params = torch.tensor([1.0, 0.0], requires_grad=True), t_u = t_un, t_c = t_c)"
   ]
  },
  {
   "cell_type": "code",
   "execution_count": 15,
   "id": "30a74f0e-a64d-4df5-b2bb-9bffdf36bf8d",
   "metadata": {},
   "outputs": [],
   "source": [
    "def model_nonlinear(t_u, w1, w2,  b):\n",
    "    return w2 * t_u ** 2 + w1 * t_u + b"
   ]
  },
  {
   "cell_type": "code",
   "execution_count": 16,
   "id": "d4cc2f0c-70cc-4219-b07b-7e8423e26b14",
   "metadata": {},
   "outputs": [],
   "source": [
    "def training_loop_nonlinear(n_epochs, learning_rate, params, t_u, t_c):\n",
    "    for epoch in range(1, n_epochs + 1):\n",
    "        if params.grad is not None:\n",
    "            params.grad.zero_()\n",
    "            \n",
    "        t_p = model_nonlinear(t_u, *params)\n",
    "        loss = loss_fn(t_p, t_c)\n",
    "        loss.backward()\n",
    "\n",
    "        with torch.no_grad():\n",
    "            params -= learning_rate * params.grad\n",
    "    \n",
    "        if epoch % 500 == 0:\n",
    "            print('Epoch %d, Loss %f' % (epoch, float(loss)))\n",
    "\n",
    "    return params"
   ]
  },
  {
   "cell_type": "code",
   "execution_count": 17,
   "id": "53a0515d-432c-4473-953b-61f3ed17d84d",
   "metadata": {},
   "outputs": [
    {
     "name": "stdout",
     "output_type": "stream",
     "text": [
      "Epoch 500, Loss 2.090720\n",
      "Epoch 1000, Loss 2.090720\n",
      "Epoch 1500, Loss 2.090720\n",
      "Epoch 2000, Loss 2.090720\n",
      "Epoch 2500, Loss 2.090720\n",
      "Epoch 3000, Loss 2.090720\n",
      "Epoch 3500, Loss 2.090720\n",
      "Epoch 4000, Loss 2.090720\n",
      "Epoch 4500, Loss 2.090720\n",
      "Epoch 5000, Loss 2.090720\n"
     ]
    },
    {
     "data": {
      "text/plain": [
       "tensor([9.1033, 0.8019, 9.7710], requires_grad=True)"
      ]
     },
     "execution_count": 17,
     "metadata": {},
     "output_type": "execute_result"
    }
   ],
   "source": [
    "# 0.1 Learning rate\n",
    "training_loop_nonlinear(n_epochs = 5000, learning_rate = 1e-1, params = torch.tensor([1.0, 1.0, 0.0], requires_grad=True), t_u = t_un, t_c = t_c)"
   ]
  },
  {
   "cell_type": "code",
   "execution_count": 18,
   "id": "38c3dd74-9359-48a4-845d-1ff1e5418a52",
   "metadata": {},
   "outputs": [
    {
     "name": "stdout",
     "output_type": "stream",
     "text": [
      "Epoch 500, Loss 2.092286\n",
      "Epoch 1000, Loss 2.090720\n",
      "Epoch 1500, Loss 2.090719\n",
      "Epoch 2000, Loss 2.090719\n",
      "Epoch 2500, Loss 2.090719\n",
      "Epoch 3000, Loss 2.090719\n",
      "Epoch 3500, Loss 2.090719\n",
      "Epoch 4000, Loss 2.090719\n",
      "Epoch 4500, Loss 2.090719\n",
      "Epoch 5000, Loss 2.090719\n"
     ]
    },
    {
     "data": {
      "text/plain": [
       "tensor([9.1034, 0.8019, 9.7710], requires_grad=True)"
      ]
     },
     "execution_count": 18,
     "metadata": {},
     "output_type": "execute_result"
    }
   ],
   "source": [
    "# 0.01 Learning rate\n",
    "training_loop_nonlinear(n_epochs = 5000, learning_rate = 1e-2, params = torch.tensor([1.0, 1.0, 0.0], requires_grad=True), t_u = t_un, t_c = t_c)"
   ]
  },
  {
   "cell_type": "code",
   "execution_count": 19,
   "id": "178711bb-9dfe-47cb-85e4-8f430201e765",
   "metadata": {},
   "outputs": [
    {
     "name": "stdout",
     "output_type": "stream",
     "text": [
      "Epoch 500, Loss 25.740374\n",
      "Epoch 1000, Loss 8.287434\n",
      "Epoch 1500, Loss 3.992266\n",
      "Epoch 2000, Loss 2.734116\n",
      "Epoch 2500, Loss 2.320184\n",
      "Epoch 3000, Loss 2.174658\n",
      "Epoch 3500, Loss 2.121781\n",
      "Epoch 4000, Loss 2.102272\n",
      "Epoch 4500, Loss 2.095026\n",
      "Epoch 5000, Loss 2.092327\n"
     ]
    },
    {
     "data": {
      "text/plain": [
       "tensor([9.1075, 0.8296, 9.7213], requires_grad=True)"
      ]
     },
     "execution_count": 19,
     "metadata": {},
     "output_type": "execute_result"
    }
   ],
   "source": [
    "# 0.001 Learning rate\n",
    "training_loop_nonlinear(n_epochs = 5000, learning_rate = 1e-3, params = torch.tensor([1.0, 1.0, 0.0], requires_grad=True), t_u = t_un, t_c = t_c)"
   ]
  },
  {
   "cell_type": "code",
   "execution_count": 20,
   "id": "90c0f83a-8e56-4168-b402-03075b7cd228",
   "metadata": {},
   "outputs": [
    {
     "name": "stdout",
     "output_type": "stream",
     "text": [
      "Epoch 500, Loss 119.458710\n",
      "Epoch 1000, Loss 95.091667\n",
      "Epoch 1500, Loss 77.399010\n",
      "Epoch 2000, Loss 64.135345\n",
      "Epoch 2500, Loss 53.900246\n",
      "Epoch 3000, Loss 45.803619\n",
      "Epoch 3500, Loss 39.266743\n",
      "Epoch 4000, Loss 33.902706\n",
      "Epoch 4500, Loss 29.445080\n",
      "Epoch 5000, Loss 25.704414\n"
     ]
    },
    {
     "data": {
      "text/plain": [
       "tensor([5.9345, 2.9060, 5.0918], requires_grad=True)"
      ]
     },
     "execution_count": 20,
     "metadata": {},
     "output_type": "execute_result"
    }
   ],
   "source": [
    "# 0.0001 Learning rate\n",
    "training_loop_nonlinear(n_epochs = 5000, learning_rate = 1e-4, params = torch.tensor([1.0, 1.0, 0.0], requires_grad=True), t_u = t_un, t_c = t_c)"
   ]
  },
  {
   "cell_type": "code",
   "execution_count": 21,
   "id": "3dfc200a-270e-4e09-aae0-1580a83c191e",
   "metadata": {},
   "outputs": [
    {
     "data": {
      "text/plain": [
       "545"
      ]
     },
     "execution_count": 21,
     "metadata": {},
     "output_type": "execute_result"
    }
   ],
   "source": [
    "df = pd.read_csv('Housing.csv')\n",
    "df.head()\n",
    "df.replace({'yes': 1, 'no': 0, 'unfurnished': 0, 'semi-furnished': 1, 'furnished': 2}, inplace=True)\n",
    "M=len(df)\n",
    "M"
   ]
  },
  {
   "cell_type": "code",
   "execution_count": 22,
   "id": "cb601381-6910-4592-9866-527c8a258059",
   "metadata": {},
   "outputs": [
    {
     "name": "stdout",
     "output_type": "stream",
     "text": [
      "price               0\n",
      "area                0\n",
      "bedrooms            0\n",
      "bathrooms           0\n",
      "stories             0\n",
      "mainroad            0\n",
      "guestroom           0\n",
      "basement            0\n",
      "hotwaterheating     0\n",
      "airconditioning     0\n",
      "parking             0\n",
      "prefarea            0\n",
      "furnishingstatus    0\n",
      "dtype: int64\n"
     ]
    }
   ],
   "source": [
    "print(df.isnull().sum())"
   ]
  },
  {
   "cell_type": "code",
   "execution_count": 23,
   "id": "fd7acf50-82d8-4ae0-b61f-6a28a26a6653",
   "metadata": {},
   "outputs": [
    {
     "data": {
      "image/png": "[encoded data removed]",
      "text/plain": [
       "<Figure size 1000x600 with 1 Axes>"
      ]
     },
     "metadata": {},
     "output_type": "display_data"
    },
    {
     "data": {
      "image/png": "[encoded data removed]",
      "text/plain": [
       "<Figure size 1000x600 with 1 Axes>"
      ]
     },
     "metadata": {},
     "output_type": "display_data"
    },
    {
     "data": {
      "image/png": "[encoded data removed]",
      "text/plain": [
       "<Figure size 1000x600 with 1 Axes>"
      ]
     },
     "metadata": {},
     "output_type": "display_data"
    },
    {
     "data": {
      "image/png": "[encoded data removed]",
      "text/plain": [
       "<Figure size 1000x600 with 1 Axes>"
      ]
     },
     "metadata": {},
     "output_type": "display_data"
    },
    {
     "data": {
      "image/png": "[encoded data removed]",
      "text/plain": [
       "<Figure size 1000x600 with 1 Axes>"
      ]
     },
     "metadata": {},
     "output_type": "display_data"
    },
    {
     "data": {
      "image/png": "[encoded data removed]",
      "text/plain": [
       "<Figure size 1000x600 with 1 Axes>"
      ]
     },
     "metadata": {},
     "output_type": "display_data"
    }
   ],
   "source": [
    "plt.figure(figsize=(10, 6))\n",
    "sns.scatterplot(x=df['area'], y=df['price'])\n",
    "plt.xlabel('Area')\n",
    "plt.ylabel('Price')\n",
    "plt.title('Area vs. Price')\n",
    "plt.show()\n",
    "\n",
    "# Example: Box plot for each feature\n",
    "for feature in ['area', 'bedrooms', 'bathrooms', 'stories', 'parking']:\n",
    "    plt.figure(figsize=(10, 6))\n",
    "    sns.boxplot(x=df[feature])\n",
    "    plt.title(f'Box Plot of {feature}')\n",
    "    plt.show()"
   ]
  },
  {
   "cell_type": "code",
   "execution_count": 24,
   "id": "be4e4c27-394e-443c-9f02-47ba5d1f91a2",
   "metadata": {},
   "outputs": [],
   "source": [
    "z_scores = stats.zscore(df[['price', 'area', 'bedrooms', 'bathrooms', 'stories', 'parking', 'mainroad', 'guestroom','basement', 'hotwaterheating', 'airconditioning','prefarea']])\n",
    "\n",
    "threshold = 1\n",
    "outliers = (abs(z_scores) > threshold).any(axis=1)\n",
    "\n",
    "df_clean = df[~outliers]"
   ]
  },
  {
   "cell_type": "code",
   "execution_count": 25,
   "id": "328a3448-b887-4a79-adaf-79e3d7f60f48",
   "metadata": {},
   "outputs": [],
   "source": [
    "X_2 = df[['area', 'bedrooms', 'bathrooms', 'stories', 'parking']]\n",
    "y = df['price']\n",
    "\n",
    "X_train_2_noz, X_test_2_noz, y_train_2_noz, y_test_2_noz = train_test_split(X_2, y, test_size=0.2, random_state=42)"
   ]
  },
  {
   "cell_type": "code",
   "execution_count": 26,
   "id": "116a43b9-9e91-4e36-b89e-8de6e257407a",
   "metadata": {},
   "outputs": [],
   "source": [
    "scaler = StandardScaler()\n",
    "X_train_2_noz = scaler.fit_transform(X_train_2_noz)\n",
    "X_test_2_noz = scaler.transform(X_test_2_noz)"
   ]
  },
  {
   "cell_type": "code",
   "execution_count": 27,
   "id": "680220e5-6361-4d1b-8146-3d5a2e36825d",
   "metadata": {},
   "outputs": [],
   "source": [
    "X_train_2_noz = torch.tensor(X_train_2_noz, dtype=torch.float32)\n",
    "y_train_2_noz = torch.tensor(y_train_2_noz.values, dtype=torch.float32).reshape(-1, 1)\n",
    "X_test_2_noz = torch.tensor(X_test_2_noz, dtype=torch.float32)\n",
    "y_test_2_noz = torch.tensor(y_test_2_noz.values, dtype=torch.float32).reshape(-1, 1)"
   ]
  },
  {
   "cell_type": "code",
   "execution_count": 28,
   "id": "7f36fc96-fb1f-4e5b-bb0c-f4547d520e11",
   "metadata": {},
   "outputs": [],
   "source": [
    "\n",
    "X_2 = df_clean[['area', 'bedrooms', 'bathrooms', 'stories', 'parking']]\n",
    "y = df_clean['price']\n",
    "\n",
    "X_train_2, X_test_2, y_train_2, y_test_2 = train_test_split(X_2, y, test_size=0.2, random_state=42)"
   ]
  },
  {
   "cell_type": "code",
   "execution_count": 29,
   "id": "aafd8c78-66b5-46d5-ac92-fcf4f665af67",
   "metadata": {},
   "outputs": [],
   "source": [
    "X_train_2 = scaler.fit_transform(X_train_2)\n",
    "X_test_2 = scaler.transform(X_test_2)"
   ]
  },
  {
   "cell_type": "code",
   "execution_count": 30,
   "id": "ec2f4031-100b-4b85-811c-e30e8f88e2ef",
   "metadata": {},
   "outputs": [],
   "source": [
    "X_train_2 = torch.tensor(X_train_2, dtype=torch.float32)\n",
    "y_train_2 = torch.tensor(y_train_2.values, dtype=torch.float32).reshape(-1, 1)\n",
    "X_test_2 = torch.tensor(X_test_2, dtype=torch.float32)\n",
    "y_test_2 = torch.tensor(y_test_2.values, dtype=torch.float32).reshape(-1, 1)"
   ]
  },
  {
   "cell_type": "code",
   "execution_count": 31,
   "id": "095b301b-72d0-4eb2-a4b8-8fe82a2df561",
   "metadata": {},
   "outputs": [],
   "source": [
    "import torch.nn as nn\n",
    "\n",
    "class LinearRegressionModel(nn.Module):\n",
    "    def __init__(self, input_dim):\n",
    "        super(LinearRegressionModel, self).__init__()\n",
    "        self.linear = nn.Linear(input_dim, 1)\n",
    "\n",
    "    def forward(self, x):\n",
    "        return self.linear(x)\n",
    "\n",
    "input_dim_noz = X_train_2_noz.shape[1]\n",
    "model_2_noz = LinearRegressionModel(input_dim_noz)"
   ]
  },
  {
   "cell_type": "code",
   "execution_count": 32,
   "id": "46295fcf-4eb5-4c5d-bf3e-b7e23a94c996",
   "metadata": {},
   "outputs": [],
   "source": [
    "input_dim = X_train_2.shape[1]\n",
    "model_2 = LinearRegressionModel(input_dim)"
   ]
  },
  {
   "cell_type": "code",
   "execution_count": 33,
   "id": "6572e2d1-1942-4b00-a6a9-0794dd4c5ba5",
   "metadata": {},
   "outputs": [],
   "source": [
    "def training_loop_2(n_epochs, learning_rate, model, X_train, y_train, X_val, y_val):\n",
    "    optimizer = torch.optim.SGD(model.parameters(), lr=learning_rate, weight_decay=1e-5)\n",
    "    for epoch in range(1, n_epochs + 1):\n",
    "        model.train()\n",
    "        optimizer.zero_grad()\n",
    "\n",
    "        t_p = model(X_train)\n",
    "        loss = loss_fn(t_p, y_train)\n",
    "        loss.backward()\n",
    "        torch.nn.utils.clip_grad_norm_(model.parameters(), max_norm=1.0)\n",
    "        optimizer.step()\n",
    "\n",
    "        if epoch % 500 == 0:\n",
    "            model.eval()\n",
    "            with torch.no_grad():\n",
    "                val_loss = loss_fn(model(X_val), y_val)\n",
    "            print(f'Epoch {epoch}, Training Loss: {loss.item()}, Validation Loss: {val_loss.item()}')\n",
    "\n",
    "    return model"
   ]
  },
  {
   "cell_type": "code",
   "execution_count": 34,
   "id": "d8577de9-f13b-46bf-ae17-6bfd603bf134",
   "metadata": {},
   "outputs": [
    {
     "name": "stdout",
     "output_type": "stream",
     "text": [
      "Epoch 500, Training Loss: 25234287624192.0, Validation Loss: 30129407393792.0\n",
      "Epoch 1000, Training Loss: 25233784307712.0, Validation Loss: 30128818094080.0\n",
      "Epoch 1500, Training Loss: 25233287282688.0, Validation Loss: 30128226697216.0\n",
      "Epoch 2000, Training Loss: 25232781869056.0, Validation Loss: 30127645786112.0\n",
      "Epoch 2500, Training Loss: 25232280649728.0, Validation Loss: 30127060680704.0\n",
      "Epoch 3000, Training Loss: 25231779430400.0, Validation Loss: 30126473478144.0\n",
      "Epoch 3500, Training Loss: 25231278211072.0, Validation Loss: 30125886275584.0\n",
      "Epoch 4000, Training Loss: 25230781186048.0, Validation Loss: 30125305364480.0\n",
      "Epoch 4500, Training Loss: 25230275772416.0, Validation Loss: 30124716064768.0\n",
      "Epoch 5000, Training Loss: 25229776650240.0, Validation Loss: 30124135153664.0\n"
     ]
    }
   ],
   "source": [
    "model = training_loop_2(n_epochs=5000, learning_rate=1e-1, model=model_2_noz, X_train=X_train_2_noz, y_train=y_train_2_noz, X_val=X_test_2_noz, y_val=y_test_2_noz)"
   ]
  },
  {
   "cell_type": "code",
   "execution_count": 35,
   "id": "647c99ba-3c5d-496d-a805-384a0eb0038d",
   "metadata": {},
   "outputs": [
    {
     "name": "stdout",
     "output_type": "stream",
     "text": [
      "linear.weight: tensor([[93.2758, 65.0873, 93.0606, 70.1840, 66.0961]])\n",
      "linear.bias: tensor([466.8694])\n"
     ]
    }
   ],
   "source": [
    "for name, param in model.named_parameters():\n",
    "    if param.requires_grad:\n",
    "        print(f'{name}: {param.data}')"
   ]
  },
  {
   "cell_type": "code",
   "execution_count": 36,
   "id": "891437e4-4066-4a5a-9820-2dc409de37f8",
   "metadata": {},
   "outputs": [
    {
     "name": "stdout",
     "output_type": "stream",
     "text": [
      "Epoch 500, Training Loss: 14690212118528.0, Validation Loss: 16475242889216.0\n",
      "Epoch 1000, Training Loss: 14689833582592.0, Validation Loss: 16474839187456.0\n",
      "Epoch 1500, Training Loss: 14689453998080.0, Validation Loss: 16474434437120.0\n",
      "Epoch 2000, Training Loss: 14689074413568.0, Validation Loss: 16474031783936.0\n",
      "Epoch 2500, Training Loss: 14688695877632.0, Validation Loss: 16473628082176.0\n",
      "Epoch 3000, Training Loss: 14688316293120.0, Validation Loss: 16473226477568.0\n",
      "Epoch 3500, Training Loss: 14687937757184.0, Validation Loss: 16472823824384.0\n",
      "Epoch 4000, Training Loss: 14687562366976.0, Validation Loss: 16472421171200.0\n",
      "Epoch 4500, Training Loss: 14687182782464.0, Validation Loss: 16472017469440.0\n",
      "Epoch 5000, Training Loss: 14686806343680.0, Validation Loss: 16471615864832.0\n"
     ]
    }
   ],
   "source": [
    "model = training_loop_2(n_epochs=5000, learning_rate=1e-1, model=model_2, X_train=X_train_2, y_train=y_train_2, X_val=X_test_2, y_val=y_test_2)"
   ]
  },
  {
   "cell_type": "code",
   "execution_count": 37,
   "id": "39f068de-a641-44b3-a6c2-1eaedecd575e",
   "metadata": {},
   "outputs": [
    {
     "name": "stdout",
     "output_type": "stream",
     "text": [
      "linear.weight: tensor([[ 2.3163, -0.3284, -0.3872,  3.0329, 21.6289]])\n",
      "linear.bias: tensor([498.1021])\n"
     ]
    }
   ],
   "source": [
    "for name, param in model.named_parameters():\n",
    "    if param.requires_grad:\n",
    "        print(f'{name}: {param.data}')"
   ]
  },
  {
   "cell_type": "code",
   "execution_count": 38,
   "id": "5d7f0943-aa51-4daa-baa2-8994b607f8d8",
   "metadata": {},
   "outputs": [
    {
     "name": "stdout",
     "output_type": "stream",
     "text": [
      "Epoch 500, Training Loss: 14686766497792.0, Validation Loss: 16471576018944.0\n",
      "Epoch 1000, Training Loss: 14686728749056.0, Validation Loss: 16471535124480.0\n",
      "Epoch 1500, Training Loss: 14686692048896.0, Validation Loss: 16471496327168.0\n",
      "Epoch 2000, Training Loss: 14686653251584.0, Validation Loss: 16471456481280.0\n",
      "Epoch 2500, Training Loss: 14686616551424.0, Validation Loss: 16471414538240.0\n",
      "Epoch 3000, Training Loss: 14686578802688.0, Validation Loss: 16471375740928.0\n",
      "Epoch 3500, Training Loss: 14686540005376.0, Validation Loss: 16471333797888.0\n",
      "Epoch 4000, Training Loss: 14686503305216.0, Validation Loss: 16471296049152.0\n",
      "Epoch 4500, Training Loss: 14686464507904.0, Validation Loss: 16471255154688.0\n",
      "Epoch 5000, Training Loss: 14686427807744.0, Validation Loss: 16471213211648.0\n"
     ]
    },
    {
     "data": {
      "text/plain": [
       "LinearRegressionModel(\n",
       "  (linear): Linear(in_features=5, out_features=1, bias=True)\n",
       ")"
      ]
     },
     "execution_count": 38,
     "metadata": {},
     "output_type": "execute_result"
    }
   ],
   "source": [
    "training_loop_2(n_epochs=5000, learning_rate=1e-2, model=model_2, X_train=X_train_2, y_train=y_train_2, X_val=X_test_2, y_val=y_test_2)"
   ]
  },
  {
   "cell_type": "code",
   "execution_count": 39,
   "id": "15995d9a-9cd4-423b-9162-c1c4bac87fc4",
   "metadata": {},
   "outputs": [
    {
     "name": "stdout",
     "output_type": "stream",
     "text": [
      "Epoch 500, Training Loss: 14686423613440.0, Validation Loss: 16471211114496.0\n",
      "Epoch 1000, Training Loss: 14686420467712.0, Validation Loss: 16471204823040.0\n",
      "Epoch 1500, Training Loss: 14686417321984.0, Validation Loss: 16471202725888.0\n",
      "Epoch 2000, Training Loss: 14686414176256.0, Validation Loss: 16471198531584.0\n",
      "Epoch 2500, Training Loss: 14686408933376.0, Validation Loss: 16471194337280.0\n",
      "Epoch 3000, Training Loss: 14686403690496.0, Validation Loss: 16471190142976.0\n",
      "Epoch 3500, Training Loss: 14686402641920.0, Validation Loss: 16471185948672.0\n",
      "Epoch 4000, Training Loss: 14686397399040.0, Validation Loss: 16471182802944.0\n",
      "Epoch 4500, Training Loss: 14686394253312.0, Validation Loss: 16471178608640.0\n",
      "Epoch 5000, Training Loss: 14686390059008.0, Validation Loss: 16471175462912.0\n"
     ]
    },
    {
     "data": {
      "text/plain": [
       "LinearRegressionModel(\n",
       "  (linear): Linear(in_features=5, out_features=1, bias=True)\n",
       ")"
      ]
     },
     "execution_count": 39,
     "metadata": {},
     "output_type": "execute_result"
    }
   ],
   "source": [
    "training_loop_2(n_epochs=5000, learning_rate=1e-3, model=model_2, X_train=X_train_2, y_train=y_train_2, X_val=X_test_2, y_val=y_test_2)"
   ]
  },
  {
   "cell_type": "code",
   "execution_count": 40,
   "id": "81e8174c-2bd6-4e51-a544-303487178b23",
   "metadata": {},
   "outputs": [
    {
     "name": "stdout",
     "output_type": "stream",
     "text": [
      "Epoch 500, Training Loss: 14686387961856.0, Validation Loss: 16471174414336.0\n",
      "Epoch 1000, Training Loss: 14686387961856.0, Validation Loss: 16471173365760.0\n",
      "Epoch 1500, Training Loss: 14686387961856.0, Validation Loss: 16471173365760.0\n",
      "Epoch 2000, Training Loss: 14686386913280.0, Validation Loss: 16471173365760.0\n",
      "Epoch 2500, Training Loss: 14686386913280.0, Validation Loss: 16471173365760.0\n",
      "Epoch 3000, Training Loss: 14686386913280.0, Validation Loss: 16471171268608.0\n",
      "Epoch 3500, Training Loss: 14686386913280.0, Validation Loss: 16471170220032.0\n",
      "Epoch 4000, Training Loss: 14686386913280.0, Validation Loss: 16471170220032.0\n",
      "Epoch 4500, Training Loss: 14686386913280.0, Validation Loss: 16471170220032.0\n",
      "Epoch 5000, Training Loss: 14686386913280.0, Validation Loss: 16471170220032.0\n"
     ]
    },
    {
     "data": {
      "text/plain": [
       "LinearRegressionModel(\n",
       "  (linear): Linear(in_features=5, out_features=1, bias=True)\n",
       ")"
      ]
     },
     "execution_count": 40,
     "metadata": {},
     "output_type": "execute_result"
    }
   ],
   "source": [
    "training_loop_2(n_epochs=5000, learning_rate=1e-4, model=model_2, X_train=X_train_2, y_train=y_train_2, X_val=X_test_2, y_val=y_test_2)"
   ]
  },
  {
   "cell_type": "code",
   "execution_count": 41,
   "id": "c32dc412-2863-460c-924b-cc58b287a3c7",
   "metadata": {},
   "outputs": [],
   "source": [
    "X_3 = df_clean[['area', 'bedrooms', 'bathrooms', 'stories', 'parking', 'mainroad', 'guestroom','basement', 'hotwaterheating', 'airconditioning','prefarea', 'furnishingstatus']]\n",
    "\n",
    "X_train_3, X_test_3, y_train_3, y_test_3 = train_test_split(X_3, y, test_size=0.2, random_state=42)"
   ]
  },
  {
   "cell_type": "code",
   "execution_count": 42,
   "id": "1c96c2c3-0130-4ed0-b0e0-f560f428cb96",
   "metadata": {},
   "outputs": [],
   "source": [
    "X_train_3 = scaler.fit_transform(X_train_3)\n",
    "X_test_3 = scaler.transform(X_test_3)"
   ]
  },
  {
   "cell_type": "code",
   "execution_count": 43,
   "id": "29a39a01-2d0c-4bd7-b3ad-8c5023e976b3",
   "metadata": {},
   "outputs": [],
   "source": [
    "X_train_3 = torch.tensor(X_train_3, dtype=torch.float32)\n",
    "y_train_3 = torch.tensor(y_train_3.values, dtype=torch.float32).reshape(-1, 1)\n",
    "X_test_3 = torch.tensor(X_test_3, dtype=torch.float32)\n",
    "y_test_3 = torch.tensor(y_test_3.values, dtype=torch.float32).reshape(-1, 1)"
   ]
  },
  {
   "cell_type": "code",
   "execution_count": 44,
   "id": "1ad1b5f9-0284-4fff-87e6-bda690795ee8",
   "metadata": {},
   "outputs": [],
   "source": [
    "input_dim = X_train_3.shape[1]\n",
    "model_3 = LinearRegressionModel(input_dim)"
   ]
  },
  {
   "cell_type": "code",
   "execution_count": 45,
   "id": "98aeb021-5a91-4ce8-9082-e4be6c861f64",
   "metadata": {},
   "outputs": [
    {
     "name": "stdout",
     "output_type": "stream",
     "text": [
      "Epoch 500, Training Loss: 14690210021376.0, Validation Loss: 16475225063424.0\n",
      "Epoch 1000, Training Loss: 14689830436864.0, Validation Loss: 16474801438720.0\n",
      "Epoch 1500, Training Loss: 14689450852352.0, Validation Loss: 16474378862592.0\n",
      "Epoch 2000, Training Loss: 14689071267840.0, Validation Loss: 16473956286464.0\n",
      "Epoch 2500, Training Loss: 14688692731904.0, Validation Loss: 16473535807488.0\n",
      "Epoch 3000, Training Loss: 14688313147392.0, Validation Loss: 16473115328512.0\n",
      "Epoch 3500, Training Loss: 14687933562880.0, Validation Loss: 16472692752384.0\n",
      "Epoch 4000, Training Loss: 14687556075520.0, Validation Loss: 16472272273408.0\n",
      "Epoch 4500, Training Loss: 14687177539584.0, Validation Loss: 16471850745856.0\n",
      "Epoch 5000, Training Loss: 14686799003648.0, Validation Loss: 16471430266880.0\n"
     ]
    }
   ],
   "source": [
    "model = training_loop_2(n_epochs=5000, learning_rate=1e-1, model=model_3, X_train=X_train_3, y_train=y_train_3, X_val=X_test_3, y_val=y_test_3)"
   ]
  },
  {
   "cell_type": "code",
   "execution_count": 46,
   "id": "997b46b5-7ada-4dc9-b771-be6427bab5e1",
   "metadata": {},
   "outputs": [
    {
     "name": "stdout",
     "output_type": "stream",
     "text": [
      "Epoch 500, Training Loss: 14686760206336.0, Validation Loss: 16471387275264.0\n",
      "Epoch 1000, Training Loss: 14686722457600.0, Validation Loss: 16471345332224.0\n",
      "Epoch 1500, Training Loss: 14686683660288.0, Validation Loss: 16471304437760.0\n",
      "Epoch 2000, Training Loss: 14686646960128.0, Validation Loss: 16471261446144.0\n",
      "Epoch 2500, Training Loss: 14686609211392.0, Validation Loss: 16471219503104.0\n",
      "Epoch 3000, Training Loss: 14686571462656.0, Validation Loss: 16471177560064.0\n",
      "Epoch 3500, Training Loss: 14686533713920.0, Validation Loss: 16471135617024.0\n",
      "Epoch 4000, Training Loss: 14686493868032.0, Validation Loss: 16471094722560.0\n",
      "Epoch 4500, Training Loss: 14686458216448.0, Validation Loss: 16471049633792.0\n",
      "Epoch 5000, Training Loss: 14686420467712.0, Validation Loss: 16471009787904.0\n"
     ]
    }
   ],
   "source": [
    "model = training_loop_2(n_epochs=5000, learning_rate=1e-2, model=model_3, X_train=X_train_3, y_train=y_train_3, X_val=X_test_3, y_val=y_test_3)"
   ]
  },
  {
   "cell_type": "code",
   "execution_count": 47,
   "id": "017d3f6e-e341-4a0f-829d-048cccf6d3f6",
   "metadata": {},
   "outputs": [
    {
     "name": "stdout",
     "output_type": "stream",
     "text": [
      "Epoch 500, Training Loss: 14686417321984.0, Validation Loss: 16471005593600.0\n",
      "Epoch 1000, Training Loss: 14686411030528.0, Validation Loss: 16470999302144.0\n",
      "Epoch 1500, Training Loss: 14686407884800.0, Validation Loss: 16470997204992.0\n",
      "Epoch 2000, Training Loss: 14686403690496.0, Validation Loss: 16470990913536.0\n",
      "Epoch 2500, Training Loss: 14686399496192.0, Validation Loss: 16470988816384.0\n",
      "Epoch 3000, Training Loss: 14686397399040.0, Validation Loss: 16470984622080.0\n",
      "Epoch 3500, Training Loss: 14686393204736.0, Validation Loss: 16470980427776.0\n",
      "Epoch 4000, Training Loss: 14686387961856.0, Validation Loss: 16470976233472.0\n",
      "Epoch 4500, Training Loss: 14686386913280.0, Validation Loss: 16470973087744.0\n",
      "Epoch 5000, Training Loss: 14686380621824.0, Validation Loss: 16470967844864.0\n"
     ]
    }
   ],
   "source": [
    "model = training_loop_2(n_epochs=5000, learning_rate=1e-3, model=model_3, X_train=X_train_3, y_train=y_train_3, X_val=X_test_3, y_val=y_test_3)"
   ]
  },
  {
   "cell_type": "code",
   "execution_count": 48,
   "id": "31d57208-6e54-4ea9-9cf4-46829f4e8883",
   "metadata": {},
   "outputs": [
    {
     "name": "stdout",
     "output_type": "stream",
     "text": [
      "Epoch 500, Training Loss: 14686380621824.0, Validation Loss: 16470967844864.0\n",
      "Epoch 1000, Training Loss: 14686380621824.0, Validation Loss: 16470967844864.0\n",
      "Epoch 1500, Training Loss: 14686380621824.0, Validation Loss: 16470965747712.0\n",
      "Epoch 2000, Training Loss: 14686380621824.0, Validation Loss: 16470965747712.0\n",
      "Epoch 2500, Training Loss: 14686380621824.0, Validation Loss: 16470964699136.0\n",
      "Epoch 3000, Training Loss: 14686380621824.0, Validation Loss: 16470964699136.0\n",
      "Epoch 3500, Training Loss: 14686378524672.0, Validation Loss: 16470964699136.0\n",
      "Epoch 4000, Training Loss: 14686378524672.0, Validation Loss: 16470964699136.0\n",
      "Epoch 4500, Training Loss: 14686378524672.0, Validation Loss: 16470964699136.0\n",
      "Epoch 5000, Training Loss: 14686378524672.0, Validation Loss: 16470964699136.0\n"
     ]
    }
   ],
   "source": [
    "model = training_loop_2(n_epochs=5000, learning_rate=1e-4, model=model_3, X_train=X_train_3, y_train=y_train_3, X_val=X_test_3, y_val=y_test_3)"
   ]
  }
 ],
 "metadata": {
  "kernelspec": {
   "display_name": "Python 3 (ipykernel)",
   "language": "python",
   "name": "python3"
  },
  "language_info": {
   "codemirror_mode": {
    "name": "ipython",
    "version": 3
   },
   "file_extension": ".py",
   "mimetype": "text/x-python",
   "name": "python",
   "nbconvert_exporter": "python",
   "pygments_lexer": "ipython3",
   "version": "3.11.7"
  }
 },
 "nbformat": 4,
 "nbformat_minor": 5
}
