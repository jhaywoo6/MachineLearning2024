{
 "cells": [
  {
   "cell_type": "code",
   "execution_count": 1,
   "id": "62e6e466-d4f6-4f64-8d63-6942f21a9709",
   "metadata": {},
   "outputs": [],
   "source": [
    "import torch\n",
    "import torch.nn as nn\n",
    "import torch.optim as optim\n",
    "from sklearn.model_selection import train_test_split\n",
    "from sklearn.preprocessing import StandardScaler\n",
    "import numpy as np\n",
    "import pandas as pd\n",
    "from scipy import stats\n",
    "from torch.utils.data import DataLoader, TensorDataset"
   ]
  },
  {
   "cell_type": "code",
   "execution_count": 2,
   "id": "93180e6b-f7c3-4b38-9aaa-6e52170d2fd2",
   "metadata": {},
   "outputs": [
    {
     "data": {
      "text/plain": [
       "545"
      ]
     },
     "execution_count": 2,
     "metadata": {},
     "output_type": "execute_result"
    }
   ],
   "source": [
    "df = pd.read_csv('Housing.csv')\n",
    "df.head()\n",
    "df.replace({'yes': 1, 'no': 0, 'unfurnished': 0, 'semi-furnished': 1, 'furnished': 2}, inplace=True)\n",
    "M=len(df)\n",
    "M"
   ]
  },
  {
   "cell_type": "code",
   "execution_count": 3,
   "id": "48b637c1-980c-4431-9f3f-4903cadabf6f",
   "metadata": {},
   "outputs": [],
   "source": [
    "GPU_cuda_no = 0\n",
    "\n",
    "cuda_no = 'cuda:'+str(GPU_cuda_no)\n",
    "\n",
    "device = torch.device(cuda_no if torch.cuda.is_available() else 'cpu')"
   ]
  },
  {
   "cell_type": "code",
   "execution_count": 4,
   "id": "99b8e804-adc6-4474-9365-d9a77182a416",
   "metadata": {},
   "outputs": [],
   "source": [
    "X_4 = df[['area', 'bedrooms', 'bathrooms', 'stories', 'parking', 'mainroad', 'guestroom','basement', 'hotwaterheating', 'airconditioning','prefarea', 'furnishingstatus']]\n",
    "y = df[['price']]"
   ]
  },
  {
   "cell_type": "code",
   "execution_count": 5,
   "id": "94919441-2271-4e9a-9fc3-dcb939d59ccb",
   "metadata": {},
   "outputs": [],
   "source": [
    "X_train_4, X_test_4, y_train_4, y_test_4 = train_test_split(X_4, y, test_size=0.2, random_state=42)"
   ]
  },
  {
   "cell_type": "code",
   "execution_count": 6,
   "id": "40041243-32a2-4be0-83da-a6019a3fcf25",
   "metadata": {},
   "outputs": [],
   "source": [
    "scaler = StandardScaler()\n",
    "X_train_4 = scaler.fit_transform(X_train_4)\n",
    "X_test_4 = scaler.transform(X_test_4)"
   ]
  },
  {
   "cell_type": "code",
   "execution_count": 7,
   "id": "4d273e2a-7ab1-4f28-80c0-3e5bb75b0759",
   "metadata": {},
   "outputs": [],
   "source": [
    "if isinstance(X_train_4, pd.DataFrame):\n",
    "    X_train_4 = X_train_4.values\n",
    "if isinstance(X_test_4, pd.DataFrame):\n",
    "    X_test_4 = X_test_4.values\n",
    "if isinstance(y_train_4, pd.DataFrame):\n",
    "    y_train_4 = y_train_4.values\n",
    "if isinstance(y_test_4, pd.DataFrame):\n",
    "    y_test_4 = y_test_4.values"
   ]
  },
  {
   "cell_type": "code",
   "execution_count": 8,
   "id": "628764c5-d30b-4dfc-a387-c3efbe2332c5",
   "metadata": {},
   "outputs": [],
   "source": [
    "X_train_4 = torch.tensor(X_train_4, dtype=torch.float32)\n",
    "y_train_4 = torch.tensor(y_train_4, dtype=torch.float32).view(-1, 1)\n",
    "X_test_4 = torch.tensor(X_test_4, dtype=torch.float32)\n",
    "y_test_4 = torch.tensor(y_test_4, dtype=torch.float32).view(-1, 1)"
   ]
  },
  {
   "cell_type": "code",
   "execution_count": 9,
   "id": "2cf8311d-872c-42e0-a977-9cc05d1dba81",
   "metadata": {},
   "outputs": [],
   "source": [
    "class neuralNetworkOneLayer(nn.Module):\n",
    "    def __init__(self):\n",
    "        super(neuralNetworkOneLayer, self).__init__()\n",
    "        self.fc1 = nn.Linear(12, 32)\n",
    "        self.fc2 = nn.Linear(32, 1)\n",
    "        self.relu = nn.ReLU()\n",
    "\n",
    "    def forward(self, x):\n",
    "        x = torch.relu(self.fc1(x))\n",
    "        x = self.fc2(x)\n",
    "        return x"
   ]
  },
  {
   "cell_type": "code",
   "execution_count": 10,
   "id": "00222632-91e0-4f96-8d6c-ff8d5ec5d417",
   "metadata": {},
   "outputs": [],
   "source": [
    "learning_rate = 0.001"
   ]
  },
  {
   "cell_type": "code",
   "execution_count": 11,
   "id": "e06f5cda-4d22-41b6-bb8d-8302f89b1c21",
   "metadata": {},
   "outputs": [],
   "source": [
    "OneLayer = neuralNetworkOneLayer().to(device)\n",
    "criterion = nn.MSELoss().to(device)\n",
    "optimizer = optim.Adam(OneLayer.parameters(), lr=learning_rate)"
   ]
  },
  {
   "cell_type": "code",
   "execution_count": 12,
   "id": "574b55f8-d419-4a0e-9290-ced1834f493b",
   "metadata": {},
   "outputs": [],
   "source": [
    "train_dataset = TensorDataset(X_train_4, y_train_4)\n",
    "val_dataset = TensorDataset(X_test_4, y_test_4)\n",
    "train_loader = DataLoader(train_dataset, batch_size=32, shuffle=True)\n",
    "val_loader = DataLoader(val_dataset, batch_size=32, shuffle=False)"
   ]
  },
  {
   "cell_type": "code",
   "execution_count": 13,
   "id": "80d78d76-2cd4-4f5f-a667-769eb853de6b",
   "metadata": {},
   "outputs": [],
   "source": [
    "train_losses = []\n",
    "val_losses = []"
   ]
  },
  {
   "cell_type": "code",
   "execution_count": 14,
   "id": "2c515834-3823-45b6-9469-2451e421968c",
   "metadata": {},
   "outputs": [
    {
     "name": "stdout",
     "output_type": "stream",
     "text": [
      "Test MAPE: 93.82%\n",
      "Epoch [5000/5000], Loss: 20918279871534.9727, Val Loss: 16410220691456.0000, mape:93.8221\n"
     ]
    }
   ],
   "source": [
    "epochs = 5000\n",
    "for epoch in range(epochs):\n",
    "    OneLayer.train()\n",
    "    running_loss = 0.0\n",
    "    for X_train_4, y_train_4 in train_loader:\n",
    "        optimizer.zero_grad()\n",
    "        outputs = OneLayer(X_train_4)\n",
    "        loss = criterion(outputs, y_train_4)\n",
    "        mape = torch.mean(torch.abs((y_train_4 - outputs) / y_train_4)) * 100\n",
    "        loss.backward()\n",
    "        optimizer.step()\n",
    "        running_loss += loss.item() * X_train_4.size(0)\n",
    "\n",
    "    train_loss = running_loss / len(train_loader.dataset)\n",
    "    train_losses.append(train_loss)\n",
    "    OneLayer.eval()\n",
    "    running_val_loss = 0.0\n",
    "    with torch.no_grad():\n",
    "        for X_train_4, y_train_4 in val_loader:\n",
    "            predicted = OneLayer(X_test_4)\n",
    "            test_loss = criterion(predicted, y_test_4)\n",
    "            running_val_loss += loss.item() * X_train_4.size(0)\n",
    "    val_loss = running_val_loss / len(val_loader.dataset)\n",
    "    val_losses.append(val_loss)\n",
    "    mape = torch.mean(torch.abs((y_test_4 - predicted) / y_test_4)) * 100\n",
    "\n",
    "print(f'Test MAPE: {mape.item():.2f}%')\n",
    "print(f'Epoch [{epoch+1}/{epochs}], Loss: {train_loss:.4f}, Val Loss: {val_loss:.4f}, mape:{mape.item():.4f}')\n"
   ]
  },
  {
   "cell_type": "code",
   "execution_count": 15,
   "id": "9fd1d705-6fce-48b9-b843-1ef715bab12f",
   "metadata": {},
   "outputs": [],
   "source": [
    "num_params_nn = sum(p.numel() for p in OneLayer.parameters() if p.requires_grad)"
   ]
  },
  {
   "cell_type": "code",
   "execution_count": 16,
   "id": "0c5cb318-ee12-4668-9d91-80fbbedd62b7",
   "metadata": {},
   "outputs": [
    {
     "data": {
      "text/plain": [
       "449"
      ]
     },
     "execution_count": 16,
     "metadata": {},
     "output_type": "execute_result"
    }
   ],
   "source": [
    "num_params_nn"
   ]
  },
  {
   "cell_type": "code",
   "execution_count": 17,
   "id": "774c3a2e-84a9-4e07-a44a-1f107cd5b797",
   "metadata": {},
   "outputs": [],
   "source": [
    "class neuralNetworkThreeLayer(nn.Module):\n",
    "    def __init__(self):\n",
    "        super(neuralNetworkThreeLayer, self).__init__()\n",
    "        self.fc1 = nn.Linear(12, 32)\n",
    "        self.fc2 = nn.Linear(32, 64)\n",
    "        self.fc3 = nn.Linear(64, 16)\n",
    "        self.fc4 = nn.Linear(16, 1)\n",
    "\n",
    "    def forward(self, x):\n",
    "        x = torch.relu(self.fc1(x))\n",
    "        x = torch.relu(self.fc2(x))\n",
    "        x = torch.relu(self.fc3(x))\n",
    "        x = self.fc4(x)\n",
    "        return x"
   ]
  },
  {
   "cell_type": "code",
   "execution_count": 18,
   "id": "d49dbbb9-8492-467f-8102-fb93bf242fd6",
   "metadata": {},
   "outputs": [],
   "source": [
    "ThreeLayer = neuralNetworkThreeLayer().to(device)\n",
    "optimizer = optim.Adam(ThreeLayer.parameters(), lr=0.01)"
   ]
  },
  {
   "cell_type": "code",
   "execution_count": 19,
   "id": "3f3f2240-a8bc-4c72-9d71-eecc50a28479",
   "metadata": {},
   "outputs": [
    {
     "name": "stdout",
     "output_type": "stream",
     "text": [
      "Test MAPE: 30.02%\n",
      "Epoch [5000/5000], Loss: 95890702486.3119, Val Loss: 81257644032.0000, mape:30.0175\n"
     ]
    }
   ],
   "source": [
    "epochs = 5000\n",
    "for epoch in range(epochs):\n",
    "    ThreeLayer.train()\n",
    "    running_loss = 0.0\n",
    "    for X_train_4, y_train_4 in train_loader:\n",
    "        optimizer.zero_grad()\n",
    "        outputs = ThreeLayer(X_train_4)\n",
    "        loss = criterion(outputs, y_train_4)\n",
    "        mape = torch.mean(torch.abs((y_train_4 - outputs) / y_train_4)) * 100\n",
    "        loss.backward()\n",
    "        optimizer.step()\n",
    "        running_loss += loss.item() * X_train_4.size(0)\n",
    "    train_loss = running_loss / len(train_loader.dataset)\n",
    "    train_losses.append(train_loss)\n",
    "    ThreeLayer.eval()\n",
    "    running_val_loss = 0.0\n",
    "    with torch.no_grad():\n",
    "        for X_train_4, y_train_4 in val_loader:\n",
    "            predicted = ThreeLayer(X_test_4)\n",
    "            test_loss = criterion(predicted, y_test_4)\n",
    "            running_val_loss += loss.item() * X_train_4.size(0)\n",
    "    val_loss = running_val_loss / len(val_loader.dataset)\n",
    "    val_losses.append(val_loss)\n",
    "    mape = torch.mean(torch.abs((y_test_4 - predicted) / y_test_4)) * 100\n",
    "    \n",
    "print(f'Test MAPE: {mape.item():.2f}%')\n",
    "print(f'Epoch [{epoch+1}/{epochs}], Loss: {train_loss:.4f}, Val Loss: {val_loss:.4f}, mape:{mape.item():.4f}')\n"
   ]
  },
  {
   "cell_type": "code",
   "execution_count": 20,
   "id": "748f4c33-5de6-40c3-95c7-700828a70a56",
   "metadata": {},
   "outputs": [],
   "source": [
    "num_params_nn = sum(p.numel() for p in ThreeLayer.parameters() if p.requires_grad)"
   ]
  },
  {
   "cell_type": "code",
   "execution_count": 21,
   "id": "7274c9b3-9d22-4640-97f8-406899ddca63",
   "metadata": {},
   "outputs": [
    {
     "data": {
      "text/plain": [
       "3585"
      ]
     },
     "execution_count": 21,
     "metadata": {},
     "output_type": "execute_result"
    }
   ],
   "source": [
    "num_params_nn"
   ]
  },
  {
   "cell_type": "code",
   "execution_count": 22,
   "id": "f7264faf-8b51-41ff-9ede-bebd97933b1c",
   "metadata": {},
   "outputs": [],
   "source": [
    "import torchvision\n",
    "import torchvision.transforms as transforms\n",
    "import time"
   ]
  },
  {
   "cell_type": "code",
   "execution_count": 23,
   "id": "c7c4835c-9270-4097-b1a2-7c982849adbf",
   "metadata": {},
   "outputs": [],
   "source": [
    "epochs = 10\n",
    "batch_size = 100\n"
   ]
  },
  {
   "cell_type": "code",
   "execution_count": 24,
   "id": "3938c927-a388-4dcc-8145-f5ef6b66c3cd",
   "metadata": {},
   "outputs": [],
   "source": [
    "transform = transforms.Compose([\n",
    "    transforms.ToTensor(),\n",
    "    transforms.Normalize((0.4914, 0.4822, 0.4465), (0.2023, 0.1994, 0.2010))\n",
    "])"
   ]
  },
  {
   "cell_type": "code",
   "execution_count": 25,
   "id": "57ada05b-99de-4dab-8fc5-a2bbbf2bad7a",
   "metadata": {},
   "outputs": [
    {
     "name": "stdout",
     "output_type": "stream",
     "text": [
      "Files already downloaded and verified\n",
      "Files already downloaded and verified\n"
     ]
    }
   ],
   "source": [
    "train_dataset = torchvision.datasets.CIFAR10(root='./data', train=True, transform=transform, download=True)\n",
    "test_dataset = torchvision.datasets.CIFAR10(root='./data', train=False, transform=transform, download=True)"
   ]
  },
  {
   "cell_type": "code",
   "execution_count": 26,
   "id": "700d7af3-928d-4275-b177-c984780f7cde",
   "metadata": {},
   "outputs": [],
   "source": [
    "train_loader = torch.utils.data.DataLoader(dataset=train_dataset, batch_size=batch_size, shuffle=True)\n",
    "test_loader = torch.utils.data.DataLoader(dataset=test_dataset, batch_size=batch_size, shuffle=False)"
   ]
  },
  {
   "cell_type": "code",
   "execution_count": 27,
   "id": "e077af2c-60d7-426d-b7e0-247fc6333ae0",
   "metadata": {},
   "outputs": [],
   "source": [
    "class CIFAR10OneLayer(nn.Module):\n",
    "    def __init__(self):\n",
    "        super(CIFAR10OneLayer, self).__init__()\n",
    "        self.fc1 = nn.Linear(32*32*3, 512)\n",
    "        self.fc2 = nn.Linear(512, 10)\n",
    "\n",
    "    def forward(self, x):\n",
    "        x = x.view(x.size(0), -1)\n",
    "        x = torch.relu(self.fc1(x))\n",
    "        x = self.fc2(x)\n",
    "        return x"
   ]
  },
  {
   "cell_type": "code",
   "execution_count": 28,
   "id": "f685cb4d-a397-4222-8d86-7bfde06f90bc",
   "metadata": {},
   "outputs": [],
   "source": [
    "CIFOneLayer = CIFAR10OneLayer().to(device)"
   ]
  },
  {
   "cell_type": "code",
   "execution_count": 29,
   "id": "bcb53b03-0a96-41e0-a3b5-272beb635508",
   "metadata": {},
   "outputs": [],
   "source": [
    "criterion = nn.CrossEntropyLoss().to(device)\n",
    "optimizer = optim.Adam(CIFOneLayer.parameters(), lr=learning_rate)"
   ]
  },
  {
   "cell_type": "code",
   "execution_count": 30,
   "id": "6fc18af1-51eb-43e0-a95c-56c334a9f973",
   "metadata": {},
   "outputs": [],
   "source": [
    "total_step = len(train_loader)\n",
    "start_time = time.time()"
   ]
  },
  {
   "cell_type": "code",
   "execution_count": 31,
   "id": "c9a0479f-f70c-411c-95dd-ce69208987ae",
   "metadata": {},
   "outputs": [
    {
     "name": "stdout",
     "output_type": "stream",
     "text": [
      "Epoch [1/10], Step [100/500], Loss: 1.9811\n",
      "Epoch [1/10], Step [200/500], Loss: 1.6928\n",
      "Epoch [1/10], Step [300/500], Loss: 1.6260\n",
      "Epoch [1/10], Step [400/500], Loss: 1.6300\n",
      "Epoch [1/10], Step [500/500], Loss: 1.5290\n",
      "Epoch [2/10], Step [100/500], Loss: 1.6209\n",
      "Epoch [2/10], Step [200/500], Loss: 1.3559\n",
      "Epoch [2/10], Step [300/500], Loss: 1.4677\n",
      "Epoch [2/10], Step [400/500], Loss: 1.6519\n",
      "Epoch [2/10], Step [500/500], Loss: 1.3417\n",
      "Epoch [3/10], Step [100/500], Loss: 1.3499\n",
      "Epoch [3/10], Step [200/500], Loss: 1.4312\n",
      "Epoch [3/10], Step [300/500], Loss: 1.4431\n",
      "Epoch [3/10], Step [400/500], Loss: 1.2785\n",
      "Epoch [3/10], Step [500/500], Loss: 1.3705\n",
      "Epoch [4/10], Step [100/500], Loss: 1.3856\n",
      "Epoch [4/10], Step [200/500], Loss: 1.3706\n",
      "Epoch [4/10], Step [300/500], Loss: 1.2990\n",
      "Epoch [4/10], Step [400/500], Loss: 1.3402\n",
      "Epoch [4/10], Step [500/500], Loss: 1.5565\n",
      "Epoch [5/10], Step [100/500], Loss: 1.1710\n",
      "Epoch [5/10], Step [200/500], Loss: 1.3391\n",
      "Epoch [5/10], Step [300/500], Loss: 1.1614\n",
      "Epoch [5/10], Step [400/500], Loss: 1.2361\n",
      "Epoch [5/10], Step [500/500], Loss: 1.3565\n",
      "Epoch [6/10], Step [100/500], Loss: 1.2599\n",
      "Epoch [6/10], Step [200/500], Loss: 1.0991\n",
      "Epoch [6/10], Step [300/500], Loss: 1.2928\n",
      "Epoch [6/10], Step [400/500], Loss: 1.3673\n",
      "Epoch [6/10], Step [500/500], Loss: 1.3764\n",
      "Epoch [7/10], Step [100/500], Loss: 1.0361\n",
      "Epoch [7/10], Step [200/500], Loss: 1.3193\n",
      "Epoch [7/10], Step [300/500], Loss: 1.4181\n",
      "Epoch [7/10], Step [400/500], Loss: 1.1295\n",
      "Epoch [7/10], Step [500/500], Loss: 0.8853\n",
      "Epoch [8/10], Step [100/500], Loss: 1.0430\n",
      "Epoch [8/10], Step [200/500], Loss: 1.0883\n",
      "Epoch [8/10], Step [300/500], Loss: 1.1108\n",
      "Epoch [8/10], Step [400/500], Loss: 1.0906\n",
      "Epoch [8/10], Step [500/500], Loss: 1.0536\n",
      "Epoch [9/10], Step [100/500], Loss: 1.1644\n",
      "Epoch [9/10], Step [200/500], Loss: 0.9450\n",
      "Epoch [9/10], Step [300/500], Loss: 0.9611\n",
      "Epoch [9/10], Step [400/500], Loss: 1.0073\n",
      "Epoch [9/10], Step [500/500], Loss: 1.1058\n",
      "Epoch [10/10], Step [100/500], Loss: 1.1871\n",
      "Epoch [10/10], Step [200/500], Loss: 1.2398\n",
      "Epoch [10/10], Step [300/500], Loss: 1.2660\n",
      "Epoch [10/10], Step [400/500], Loss: 0.9478\n",
      "Epoch [10/10], Step [500/500], Loss: 1.3502\n"
     ]
    }
   ],
   "source": [
    "for epoch in range(epochs):\n",
    "    for i, (images, labels) in enumerate(train_loader):\n",
    "        images = images.to(device)\n",
    "        labels = labels.to(device)\n",
    "        \n",
    "        outputs = CIFOneLayer(images)\n",
    "        loss = criterion(outputs, labels)\n",
    "        \n",
    "        optimizer.zero_grad()\n",
    "        loss.backward()\n",
    "        optimizer.step()\n",
    "        \n",
    "        if (i+1) % 100 == 0:\n",
    "            print(f'Epoch [{epoch+1}/{epochs}], Step [{i+1}/{total_step}], Loss: {loss.item():.4f}')"
   ]
  },
  {
   "cell_type": "code",
   "execution_count": 32,
   "id": "0d2b5279-1196-4726-a3c9-76c929b42af1",
   "metadata": {},
   "outputs": [
    {
     "name": "stdout",
     "output_type": "stream",
     "text": [
      "Training time: 87.40 seconds\n"
     ]
    }
   ],
   "source": [
    "training_time = time.time() - start_time\n",
    "print(f'Training time: {training_time:.2f} seconds')"
   ]
  },
  {
   "cell_type": "code",
   "execution_count": 33,
   "id": "9a1c743c-ef0b-44a2-be36-7a5e366d6b9f",
   "metadata": {},
   "outputs": [
    {
     "name": "stdout",
     "output_type": "stream",
     "text": [
      "Test Accuracy: 49.94%\n",
      "Training Loss: 0.9670\n"
     ]
    }
   ],
   "source": [
    "CIFOneLayer.eval()\n",
    "with torch.no_grad():\n",
    "    correct = 0\n",
    "    total = 0\n",
    "    for images, labels in test_loader:\n",
    "        images = images #.to(device)\n",
    "        labels = labels #.to(device)\n",
    "        outputs = CIFOneLayer(images)\n",
    "        _, predicted = torch.max(outputs.data, 1)\n",
    "        total += labels.size(0)\n",
    "        correct += (predicted == labels).sum().item()\n",
    "\n",
    "    accuracy = 100 * correct / total\n",
    "    print(f'Test Accuracy: {accuracy:.2f}%')\n",
    "\n",
    "    train_loss = 0\n",
    "    for images, labels in train_loader:\n",
    "        images = images #.to(device)\n",
    "        labels = labels #.to(device)\n",
    "        outputs = CIFOneLayer(images)\n",
    "        loss = criterion(outputs, labels)\n",
    "        train_loss += loss.item()\n",
    "\n",
    "    train_loss /= len(train_loader)\n",
    "    print(f'Training Loss: {train_loss:.4f}')"
   ]
  },
  {
   "cell_type": "code",
   "execution_count": 34,
   "id": "d30da620-2fe0-4d8e-8b71-e57fbab7dff4",
   "metadata": {},
   "outputs": [],
   "source": [
    "import matplotlib.pyplot as plt"
   ]
  },
  {
   "cell_type": "code",
   "execution_count": 35,
   "id": "33c1baa3-9031-48fb-88c3-f80a4fb4f0a6",
   "metadata": {},
   "outputs": [],
   "source": [
    "epoches = 300\n",
    "class CIFAR10ThreeLayer(nn.Module):\n",
    "    def __init__(self):\n",
    "        super(CIFAR10ThreeLayer, self).__init__()\n",
    "        self.fc1 = nn.Linear(32*32*3, 512)\n",
    "        self.fc2 = nn.Linear(512, 256)\n",
    "        self.fc3 = nn.Linear(256, 128)\n",
    "        self.fc4 = nn.Linear(128, 10)\n",
    "\n",
    "    def forward(self, x):\n",
    "        x = x.view(x.size(0), -1)\n",
    "        x = torch.relu(self.fc1(x))\n",
    "        x = torch.relu(self.fc2(x))\n",
    "        x = torch.relu(self.fc3(x))\n",
    "        x = self.fc4(x)\n",
    "        return x"
   ]
  },
  {
   "cell_type": "code",
   "execution_count": 36,
   "id": "da848745-870f-4650-b11c-c68e34af05f5",
   "metadata": {},
   "outputs": [],
   "source": [
    "CIFThreeLayer = CIFAR10ThreeLayer().to(device)"
   ]
  },
  {
   "cell_type": "code",
   "execution_count": 37,
   "id": "486a0254-e068-4778-8f25-d048045decb0",
   "metadata": {},
   "outputs": [],
   "source": [
    "optimizer = optim.Adam(CIFThreeLayer.parameters(), lr=learning_rate)\n",
    "train_losses = []\n",
    "test_losses = []"
   ]
  },
  {
   "cell_type": "code",
   "execution_count": 38,
   "id": "d689c58b-0d2b-4e97-97e0-ad5f339b21e6",
   "metadata": {},
   "outputs": [
    {
     "name": "stdout",
     "output_type": "stream",
     "text": [
      "Epoch [1/10], Step [500/500], Loss: 1.4994\n",
      "Epoch [2/10], Step [500/500], Loss: 1.4057\n",
      "Epoch [3/10], Step [500/500], Loss: 1.4391\n",
      "Epoch [4/10], Step [500/500], Loss: 1.4078\n",
      "Epoch [5/10], Step [500/500], Loss: 1.4568\n",
      "Epoch [6/10], Step [500/500], Loss: 1.2532\n",
      "Epoch [7/10], Step [500/500], Loss: 1.4606\n",
      "Epoch [8/10], Step [500/500], Loss: 1.5316\n",
      "Epoch [9/10], Step [500/500], Loss: 1.4440\n",
      "Epoch [10/10], Step [500/500], Loss: 1.5279\n"
     ]
    }
   ],
   "source": [
    "for epoch in range(epochs):\n",
    "    for i, (images, labels) in enumerate(train_loader):\n",
    "        images = images.to(device)\n",
    "        labels = labels.to(device)\n",
    "        \n",
    "        outputs = CIFThreeLayer(images)\n",
    "        loss = criterion(outputs, labels)\n",
    "        train_loss += loss.item()\n",
    "        \n",
    "        optimizer.zero_grad()\n",
    "        loss.backward()\n",
    "        optimizer.step()\n",
    "        \n",
    "    train_loss /= len(train_loader)\n",
    "    train_losses.append(train_loss)\n",
    "\n",
    "    CIFThreeLayer.eval()\n",
    "    test_loss = 0\n",
    "    with torch.no_grad():\n",
    "        for images, labels in test_loader:\n",
    "            images = images.to(device)\n",
    "            labels = labels.to(device)\n",
    "            outputs = CIFThreeLayer(images)\n",
    "            loss = criterion(outputs, labels)\n",
    "            test_loss += loss.item()\n",
    "    \n",
    "    test_loss /= len(test_loader)\n",
    "    test_losses.append(test_loss)\n",
    "        \n",
    "    if (i+1) % 100 == 0:\n",
    "        print(f'Epoch [{epoch+1}/{epochs}], Step [{i+1}/{total_step}], Loss: {loss.item():.4f}')"
   ]
  },
  {
   "cell_type": "code",
   "execution_count": 39,
   "id": "73ced25f-3bb8-4643-972a-df6c8996b348",
   "metadata": {},
   "outputs": [
    {
     "name": "stdout",
     "output_type": "stream",
     "text": [
      "Training time: 203.63 seconds\n"
     ]
    }
   ],
   "source": [
    "training_time = time.time() - start_time\n",
    "print(f'Training time: {training_time:.2f} seconds')"
   ]
  },
  {
   "cell_type": "code",
   "execution_count": 40,
   "id": "e0473124-c69d-4ef8-a292-ad774b6a889e",
   "metadata": {},
   "outputs": [
    {
     "data": {
      "image/png": "[encoded data removed]",
      "text/plain": [
       "<Figure size 1000x500 with 1 Axes>"
      ]
     },
     "metadata": {},
     "output_type": "display_data"
    }
   ],
   "source": [
    "plt.figure(figsize=(10,5))\n",
    "plt.plot(train_losses, label='Training Loss')\n",
    "plt.plot(test_losses, label='Validation Loss')\n",
    "plt.xlabel('Epochs')\n",
    "plt.ylabel('Loss')\n",
    "plt.legend()\n",
    "plt.show()"
   ]
  },
  {
   "cell_type": "code",
   "execution_count": 41,
   "id": "2fb5deee-03e6-4f63-95bf-4874d14c7813",
   "metadata": {},
   "outputs": [
    {
     "name": "stdout",
     "output_type": "stream",
     "text": [
      "Test Accuracy: 54.04%\n",
      "Training Loss: 0.7297\n"
     ]
    }
   ],
   "source": [
    "CIFThreeLayer.eval()\n",
    "with torch.no_grad():\n",
    "    correct = 0\n",
    "    total = 0\n",
    "    for images, labels in test_loader:\n",
    "        images = images.to(device)\n",
    "        labels = labels.to(device)\n",
    "        outputs = CIFThreeLayer(images)\n",
    "        _, predicted = torch.max(outputs.data, 1)\n",
    "        total += labels.size(0)\n",
    "        correct += (predicted == labels).sum().item()\n",
    "\n",
    "    accuracy = 100 * correct / total\n",
    "    print(f'Test Accuracy: {accuracy:.2f}%')\n",
    "\n",
    "    train_loss = 0\n",
    "    for images, labels in train_loader:\n",
    "        images = images.to(device)\n",
    "        labels = labels.to(device)\n",
    "        outputs = CIFThreeLayer(images)\n",
    "        loss = criterion(outputs, labels)\n",
    "        train_loss += loss.item()\n",
    "\n",
    "    train_loss /= len(train_loader)\n",
    "    print(f'Training Loss: {train_loss:.4f}')"
   ]
  },
  {
   "cell_type": "code",
   "execution_count": 42,
   "id": "4ef5c3a3-1c40-4b3d-825f-a653c4d7ddb6",
   "metadata": {},
   "outputs": [],
   "source": [
    "def count_parameters(model):\n",
    "    return sum(p.numel() for p in model.parameters() if p.requires_grad)"
   ]
  },
  {
   "cell_type": "code",
   "execution_count": 43,
   "id": "8b5126f4-2e6d-4975-9ce6-d68491861611",
   "metadata": {},
   "outputs": [],
   "source": [
    "params_one_layer = count_parameters(CIFOneLayer)\n",
    "params_three_layers = count_parameters(CIFThreeLayer)"
   ]
  },
  {
   "cell_type": "code",
   "execution_count": 44,
   "id": "c3051ca4-fd4a-422e-8dda-9f91f1e62974",
   "metadata": {},
   "outputs": [
    {
     "name": "stdout",
     "output_type": "stream",
     "text": [
      "Number of parameters in the one hidden layer model: 1578506\n",
      "Number of parameters in the three hidden layers model: 1738890\n"
     ]
    }
   ],
   "source": [
    "print(f'Number of parameters in the one hidden layer model: {params_one_layer}')\n",
    "print(f'Number of parameters in the three hidden layers model: {params_three_layers}')"
   ]
  },
  {
   "cell_type": "code",
   "execution_count": null,
   "id": "03cd1ce6-cd4b-465a-949b-453d02c7d79c",
   "metadata": {},
   "outputs": [],
   "source": []
  }
 ],
 "metadata": {
  "kernelspec": {
   "display_name": "Python 3 (ipykernel)",
   "language": "python",
   "name": "python3"
  },
  "language_info": {
   "codemirror_mode": {
    "name": "ipython",
    "version": 3
   },
   "file_extension": ".py",
   "mimetype": "text/x-python",
   "name": "python",
   "nbconvert_exporter": "python",
   "pygments_lexer": "ipython3",
   "version": "3.11.7"
  }
 },
 "nbformat": 4,
 "nbformat_minor": 5
}
