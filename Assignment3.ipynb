{
 "cells": [
  {
   "cell_type": "code",
   "execution_count": 2,
   "id": "4c003781-a50f-4128-aaba-9fc5b2b5b7e6",
   "metadata": {},
   "outputs": [],
   "source": [
    "%matplotlib inline\n",
    "import numpy as np\n",
    "import pandas as pd\n",
    "import matplotlib.pyplot as plt\n",
    "from sklearn.model_selection import train_test_split\n",
    "from sklearn import metrics\n",
    "from sklearn.decomposition import PCA\n",
    "from sklearn.preprocessing import StandardScaler"
   ]
  },
  {
   "cell_type": "code",
   "execution_count": 3,
   "id": "4020b0d0-b3f3-4557-83db-1e4cb2f5cda4",
   "metadata": {},
   "outputs": [
    {
     "data": {
      "text/plain": [
       "768"
      ]
     },
     "execution_count": 3,
     "metadata": {},
     "output_type": "execute_result"
    }
   ],
   "source": [
    "diabetes = pd.read_csv('diabetes.csv')\n",
    "#data_clear = ['Glucose', 'BloodPressure', 'SkinThickness', 'Insulin', 'BMI', 'DiabetesPedigreeFunction', 'Age']\n",
    "#diabetes = diabetes[(diabetes[data_clear] != 0).all(axis=1)]\n",
    "diabetes.head() \n",
    "M=len(diabetes)\n",
    "M\n"
   ]
  },
  {
   "cell_type": "code",
   "execution_count": 4,
   "id": "83afe685-38c7-42cc-8551-f1ae8689ba04",
   "metadata": {},
   "outputs": [
    {
     "data": {
      "text/plain": [
       "569"
      ]
     },
     "execution_count": 4,
     "metadata": {},
     "output_type": "execute_result"
    }
   ],
   "source": [
    "cancer = pd.read_csv('cancer.csv')\n",
    "cancer.head() \n",
    "N=len(cancer)\n",
    "N"
   ]
  },
  {
   "cell_type": "code",
   "execution_count": 5,
   "id": "5d2ddc97-bba2-4935-9016-f84c76c481ed",
   "metadata": {},
   "outputs": [
    {
     "data": {
      "text/html": [
       "<div>\n",
       "<style scoped>\n",
       "    .dataframe tbody tr th:only-of-type {\n",
       "        vertical-align: middle;\n",
       "    }\n",
       "\n",
       "    .dataframe tbody tr th {\n",
       "        vertical-align: top;\n",
       "    }\n",
       "\n",
       "    .dataframe thead th {\n",
       "        text-align: right;\n",
       "    }\n",
       "</style>\n",
       "<table border=\"1\" class=\"dataframe\">\n",
       "  <thead>\n",
       "    <tr style=\"text-align: right;\">\n",
       "      <th></th>\n",
       "      <th>Pregnancies</th>\n",
       "      <th>Glucose</th>\n",
       "      <th>BloodPressure</th>\n",
       "      <th>SkinThickness</th>\n",
       "      <th>Insulin</th>\n",
       "      <th>BMI</th>\n",
       "      <th>DiabetesPedigreeFunction</th>\n",
       "      <th>Age</th>\n",
       "      <th>Outcome</th>\n",
       "    </tr>\n",
       "  </thead>\n",
       "  <tbody>\n",
       "    <tr>\n",
       "      <th>count</th>\n",
       "      <td>768.000000</td>\n",
       "      <td>768.000000</td>\n",
       "      <td>768.000000</td>\n",
       "      <td>768.000000</td>\n",
       "      <td>768.000000</td>\n",
       "      <td>768.000000</td>\n",
       "      <td>768.000000</td>\n",
       "      <td>768.000000</td>\n",
       "      <td>768.000000</td>\n",
       "    </tr>\n",
       "    <tr>\n",
       "      <th>mean</th>\n",
       "      <td>3.845052</td>\n",
       "      <td>120.894531</td>\n",
       "      <td>69.105469</td>\n",
       "      <td>20.536458</td>\n",
       "      <td>79.799479</td>\n",
       "      <td>31.992578</td>\n",
       "      <td>0.471876</td>\n",
       "      <td>33.240885</td>\n",
       "      <td>0.348958</td>\n",
       "    </tr>\n",
       "    <tr>\n",
       "      <th>std</th>\n",
       "      <td>3.369578</td>\n",
       "      <td>31.972618</td>\n",
       "      <td>19.355807</td>\n",
       "      <td>15.952218</td>\n",
       "      <td>115.244002</td>\n",
       "      <td>7.884160</td>\n",
       "      <td>0.331329</td>\n",
       "      <td>11.760232</td>\n",
       "      <td>0.476951</td>\n",
       "    </tr>\n",
       "    <tr>\n",
       "      <th>min</th>\n",
       "      <td>0.000000</td>\n",
       "      <td>0.000000</td>\n",
       "      <td>0.000000</td>\n",
       "      <td>0.000000</td>\n",
       "      <td>0.000000</td>\n",
       "      <td>0.000000</td>\n",
       "      <td>0.078000</td>\n",
       "      <td>21.000000</td>\n",
       "      <td>0.000000</td>\n",
       "    </tr>\n",
       "    <tr>\n",
       "      <th>25%</th>\n",
       "      <td>1.000000</td>\n",
       "      <td>99.000000</td>\n",
       "      <td>62.000000</td>\n",
       "      <td>0.000000</td>\n",
       "      <td>0.000000</td>\n",
       "      <td>27.300000</td>\n",
       "      <td>0.243750</td>\n",
       "      <td>24.000000</td>\n",
       "      <td>0.000000</td>\n",
       "    </tr>\n",
       "    <tr>\n",
       "      <th>50%</th>\n",
       "      <td>3.000000</td>\n",
       "      <td>117.000000</td>\n",
       "      <td>72.000000</td>\n",
       "      <td>23.000000</td>\n",
       "      <td>30.500000</td>\n",
       "      <td>32.000000</td>\n",
       "      <td>0.372500</td>\n",
       "      <td>29.000000</td>\n",
       "      <td>0.000000</td>\n",
       "    </tr>\n",
       "    <tr>\n",
       "      <th>75%</th>\n",
       "      <td>6.000000</td>\n",
       "      <td>140.250000</td>\n",
       "      <td>80.000000</td>\n",
       "      <td>32.000000</td>\n",
       "      <td>127.250000</td>\n",
       "      <td>36.600000</td>\n",
       "      <td>0.626250</td>\n",
       "      <td>41.000000</td>\n",
       "      <td>1.000000</td>\n",
       "    </tr>\n",
       "    <tr>\n",
       "      <th>max</th>\n",
       "      <td>17.000000</td>\n",
       "      <td>199.000000</td>\n",
       "      <td>122.000000</td>\n",
       "      <td>99.000000</td>\n",
       "      <td>846.000000</td>\n",
       "      <td>67.100000</td>\n",
       "      <td>2.420000</td>\n",
       "      <td>81.000000</td>\n",
       "      <td>1.000000</td>\n",
       "    </tr>\n",
       "  </tbody>\n",
       "</table>\n",
       "</div>"
      ],
      "text/plain": [
       "       Pregnancies     Glucose  BloodPressure  SkinThickness     Insulin  \\\n",
       "count   768.000000  768.000000     768.000000     768.000000  768.000000   \n",
       "mean      3.845052  120.894531      69.105469      20.536458   79.799479   \n",
       "std       3.369578   31.972618      19.355807      15.952218  115.244002   \n",
       "min       0.000000    0.000000       0.000000       0.000000    0.000000   \n",
       "25%       1.000000   99.000000      62.000000       0.000000    0.000000   \n",
       "50%       3.000000  117.000000      72.000000      23.000000   30.500000   \n",
       "75%       6.000000  140.250000      80.000000      32.000000  127.250000   \n",
       "max      17.000000  199.000000     122.000000      99.000000  846.000000   \n",
       "\n",
       "              BMI  DiabetesPedigreeFunction         Age     Outcome  \n",
       "count  768.000000                768.000000  768.000000  768.000000  \n",
       "mean    31.992578                  0.471876   33.240885    0.348958  \n",
       "std      7.884160                  0.331329   11.760232    0.476951  \n",
       "min      0.000000                  0.078000   21.000000    0.000000  \n",
       "25%     27.300000                  0.243750   24.000000    0.000000  \n",
       "50%     32.000000                  0.372500   29.000000    0.000000  \n",
       "75%     36.600000                  0.626250   41.000000    1.000000  \n",
       "max     67.100000                  2.420000   81.000000    1.000000  "
      ]
     },
     "execution_count": 5,
     "metadata": {},
     "output_type": "execute_result"
    }
   ],
   "source": [
    "diabetes.describe()"
   ]
  },
  {
   "cell_type": "code",
   "execution_count": 6,
   "id": "66b05890-d2f7-4211-a727-15c4f29eb5c2",
   "metadata": {},
   "outputs": [
    {
     "data": {
      "text/html": [
       "<div>\n",
       "<style scoped>\n",
       "    .dataframe tbody tr th:only-of-type {\n",
       "        vertical-align: middle;\n",
       "    }\n",
       "\n",
       "    .dataframe tbody tr th {\n",
       "        vertical-align: top;\n",
       "    }\n",
       "\n",
       "    .dataframe thead th {\n",
       "        text-align: right;\n",
       "    }\n",
       "</style>\n",
       "<table border=\"1\" class=\"dataframe\">\n",
       "  <thead>\n",
       "    <tr style=\"text-align: right;\">\n",
       "      <th></th>\n",
       "      <th>id</th>\n",
       "      <th>radius_mean</th>\n",
       "      <th>texture_mean</th>\n",
       "      <th>perimeter_mean</th>\n",
       "      <th>area_mean</th>\n",
       "      <th>smoothness_mean</th>\n",
       "      <th>compactness_mean</th>\n",
       "      <th>concavity_mean</th>\n",
       "      <th>concave points_mean</th>\n",
       "      <th>symmetry_mean</th>\n",
       "      <th>...</th>\n",
       "      <th>texture_worst</th>\n",
       "      <th>perimeter_worst</th>\n",
       "      <th>area_worst</th>\n",
       "      <th>smoothness_worst</th>\n",
       "      <th>compactness_worst</th>\n",
       "      <th>concavity_worst</th>\n",
       "      <th>concave points_worst</th>\n",
       "      <th>symmetry_worst</th>\n",
       "      <th>fractal_dimension_worst</th>\n",
       "      <th>Unnamed: 32</th>\n",
       "    </tr>\n",
       "  </thead>\n",
       "  <tbody>\n",
       "    <tr>\n",
       "      <th>count</th>\n",
       "      <td>5.690000e+02</td>\n",
       "      <td>569.000000</td>\n",
       "      <td>569.000000</td>\n",
       "      <td>569.000000</td>\n",
       "      <td>569.000000</td>\n",
       "      <td>569.000000</td>\n",
       "      <td>569.000000</td>\n",
       "      <td>569.000000</td>\n",
       "      <td>569.000000</td>\n",
       "      <td>569.000000</td>\n",
       "      <td>...</td>\n",
       "      <td>569.000000</td>\n",
       "      <td>569.000000</td>\n",
       "      <td>569.000000</td>\n",
       "      <td>569.000000</td>\n",
       "      <td>569.000000</td>\n",
       "      <td>569.000000</td>\n",
       "      <td>569.000000</td>\n",
       "      <td>569.000000</td>\n",
       "      <td>569.000000</td>\n",
       "      <td>0.0</td>\n",
       "    </tr>\n",
       "    <tr>\n",
       "      <th>mean</th>\n",
       "      <td>3.037183e+07</td>\n",
       "      <td>14.127292</td>\n",
       "      <td>19.289649</td>\n",
       "      <td>91.969033</td>\n",
       "      <td>654.889104</td>\n",
       "      <td>0.096360</td>\n",
       "      <td>0.104341</td>\n",
       "      <td>0.088799</td>\n",
       "      <td>0.048919</td>\n",
       "      <td>0.181162</td>\n",
       "      <td>...</td>\n",
       "      <td>25.677223</td>\n",
       "      <td>107.261213</td>\n",
       "      <td>880.583128</td>\n",
       "      <td>0.132369</td>\n",
       "      <td>0.254265</td>\n",
       "      <td>0.272188</td>\n",
       "      <td>0.114606</td>\n",
       "      <td>0.290076</td>\n",
       "      <td>0.083946</td>\n",
       "      <td>NaN</td>\n",
       "    </tr>\n",
       "    <tr>\n",
       "      <th>std</th>\n",
       "      <td>1.250206e+08</td>\n",
       "      <td>3.524049</td>\n",
       "      <td>4.301036</td>\n",
       "      <td>24.298981</td>\n",
       "      <td>351.914129</td>\n",
       "      <td>0.014064</td>\n",
       "      <td>0.052813</td>\n",
       "      <td>0.079720</td>\n",
       "      <td>0.038803</td>\n",
       "      <td>0.027414</td>\n",
       "      <td>...</td>\n",
       "      <td>6.146258</td>\n",
       "      <td>33.602542</td>\n",
       "      <td>569.356993</td>\n",
       "      <td>0.022832</td>\n",
       "      <td>0.157336</td>\n",
       "      <td>0.208624</td>\n",
       "      <td>0.065732</td>\n",
       "      <td>0.061867</td>\n",
       "      <td>0.018061</td>\n",
       "      <td>NaN</td>\n",
       "    </tr>\n",
       "    <tr>\n",
       "      <th>min</th>\n",
       "      <td>8.670000e+03</td>\n",
       "      <td>6.981000</td>\n",
       "      <td>9.710000</td>\n",
       "      <td>43.790000</td>\n",
       "      <td>143.500000</td>\n",
       "      <td>0.052630</td>\n",
       "      <td>0.019380</td>\n",
       "      <td>0.000000</td>\n",
       "      <td>0.000000</td>\n",
       "      <td>0.106000</td>\n",
       "      <td>...</td>\n",
       "      <td>12.020000</td>\n",
       "      <td>50.410000</td>\n",
       "      <td>185.200000</td>\n",
       "      <td>0.071170</td>\n",
       "      <td>0.027290</td>\n",
       "      <td>0.000000</td>\n",
       "      <td>0.000000</td>\n",
       "      <td>0.156500</td>\n",
       "      <td>0.055040</td>\n",
       "      <td>NaN</td>\n",
       "    </tr>\n",
       "    <tr>\n",
       "      <th>25%</th>\n",
       "      <td>8.692180e+05</td>\n",
       "      <td>11.700000</td>\n",
       "      <td>16.170000</td>\n",
       "      <td>75.170000</td>\n",
       "      <td>420.300000</td>\n",
       "      <td>0.086370</td>\n",
       "      <td>0.064920</td>\n",
       "      <td>0.029560</td>\n",
       "      <td>0.020310</td>\n",
       "      <td>0.161900</td>\n",
       "      <td>...</td>\n",
       "      <td>21.080000</td>\n",
       "      <td>84.110000</td>\n",
       "      <td>515.300000</td>\n",
       "      <td>0.116600</td>\n",
       "      <td>0.147200</td>\n",
       "      <td>0.114500</td>\n",
       "      <td>0.064930</td>\n",
       "      <td>0.250400</td>\n",
       "      <td>0.071460</td>\n",
       "      <td>NaN</td>\n",
       "    </tr>\n",
       "    <tr>\n",
       "      <th>50%</th>\n",
       "      <td>9.060240e+05</td>\n",
       "      <td>13.370000</td>\n",
       "      <td>18.840000</td>\n",
       "      <td>86.240000</td>\n",
       "      <td>551.100000</td>\n",
       "      <td>0.095870</td>\n",
       "      <td>0.092630</td>\n",
       "      <td>0.061540</td>\n",
       "      <td>0.033500</td>\n",
       "      <td>0.179200</td>\n",
       "      <td>...</td>\n",
       "      <td>25.410000</td>\n",
       "      <td>97.660000</td>\n",
       "      <td>686.500000</td>\n",
       "      <td>0.131300</td>\n",
       "      <td>0.211900</td>\n",
       "      <td>0.226700</td>\n",
       "      <td>0.099930</td>\n",
       "      <td>0.282200</td>\n",
       "      <td>0.080040</td>\n",
       "      <td>NaN</td>\n",
       "    </tr>\n",
       "    <tr>\n",
       "      <th>75%</th>\n",
       "      <td>8.813129e+06</td>\n",
       "      <td>15.780000</td>\n",
       "      <td>21.800000</td>\n",
       "      <td>104.100000</td>\n",
       "      <td>782.700000</td>\n",
       "      <td>0.105300</td>\n",
       "      <td>0.130400</td>\n",
       "      <td>0.130700</td>\n",
       "      <td>0.074000</td>\n",
       "      <td>0.195700</td>\n",
       "      <td>...</td>\n",
       "      <td>29.720000</td>\n",
       "      <td>125.400000</td>\n",
       "      <td>1084.000000</td>\n",
       "      <td>0.146000</td>\n",
       "      <td>0.339100</td>\n",
       "      <td>0.382900</td>\n",
       "      <td>0.161400</td>\n",
       "      <td>0.317900</td>\n",
       "      <td>0.092080</td>\n",
       "      <td>NaN</td>\n",
       "    </tr>\n",
       "    <tr>\n",
       "      <th>max</th>\n",
       "      <td>9.113205e+08</td>\n",
       "      <td>28.110000</td>\n",
       "      <td>39.280000</td>\n",
       "      <td>188.500000</td>\n",
       "      <td>2501.000000</td>\n",
       "      <td>0.163400</td>\n",
       "      <td>0.345400</td>\n",
       "      <td>0.426800</td>\n",
       "      <td>0.201200</td>\n",
       "      <td>0.304000</td>\n",
       "      <td>...</td>\n",
       "      <td>49.540000</td>\n",
       "      <td>251.200000</td>\n",
       "      <td>4254.000000</td>\n",
       "      <td>0.222600</td>\n",
       "      <td>1.058000</td>\n",
       "      <td>1.252000</td>\n",
       "      <td>0.291000</td>\n",
       "      <td>0.663800</td>\n",
       "      <td>0.207500</td>\n",
       "      <td>NaN</td>\n",
       "    </tr>\n",
       "  </tbody>\n",
       "</table>\n",
       "<p>8 rows × 32 columns</p>\n",
       "</div>"
      ],
      "text/plain": [
       "                 id  radius_mean  texture_mean  perimeter_mean    area_mean  \\\n",
       "count  5.690000e+02   569.000000    569.000000      569.000000   569.000000   \n",
       "mean   3.037183e+07    14.127292     19.289649       91.969033   654.889104   \n",
       "std    1.250206e+08     3.524049      4.301036       24.298981   351.914129   \n",
       "min    8.670000e+03     6.981000      9.710000       43.790000   143.500000   \n",
       "25%    8.692180e+05    11.700000     16.170000       75.170000   420.300000   \n",
       "50%    9.060240e+05    13.370000     18.840000       86.240000   551.100000   \n",
       "75%    8.813129e+06    15.780000     21.800000      104.100000   782.700000   \n",
       "max    9.113205e+08    28.110000     39.280000      188.500000  2501.000000   \n",
       "\n",
       "       smoothness_mean  compactness_mean  concavity_mean  concave points_mean  \\\n",
       "count       569.000000        569.000000      569.000000           569.000000   \n",
       "mean          0.096360          0.104341        0.088799             0.048919   \n",
       "std           0.014064          0.052813        0.079720             0.038803   \n",
       "min           0.052630          0.019380        0.000000             0.000000   \n",
       "25%           0.086370          0.064920        0.029560             0.020310   \n",
       "50%           0.095870          0.092630        0.061540             0.033500   \n",
       "75%           0.105300          0.130400        0.130700             0.074000   \n",
       "max           0.163400          0.345400        0.426800             0.201200   \n",
       "\n",
       "       symmetry_mean  ...  texture_worst  perimeter_worst   area_worst  \\\n",
       "count     569.000000  ...     569.000000       569.000000   569.000000   \n",
       "mean        0.181162  ...      25.677223       107.261213   880.583128   \n",
       "std         0.027414  ...       6.146258        33.602542   569.356993   \n",
       "min         0.106000  ...      12.020000        50.410000   185.200000   \n",
       "25%         0.161900  ...      21.080000        84.110000   515.300000   \n",
       "50%         0.179200  ...      25.410000        97.660000   686.500000   \n",
       "75%         0.195700  ...      29.720000       125.400000  1084.000000   \n",
       "max         0.304000  ...      49.540000       251.200000  4254.000000   \n",
       "\n",
       "       smoothness_worst  compactness_worst  concavity_worst  \\\n",
       "count        569.000000         569.000000       569.000000   \n",
       "mean           0.132369           0.254265         0.272188   \n",
       "std            0.022832           0.157336         0.208624   \n",
       "min            0.071170           0.027290         0.000000   \n",
       "25%            0.116600           0.147200         0.114500   \n",
       "50%            0.131300           0.211900         0.226700   \n",
       "75%            0.146000           0.339100         0.382900   \n",
       "max            0.222600           1.058000         1.252000   \n",
       "\n",
       "       concave points_worst  symmetry_worst  fractal_dimension_worst  \\\n",
       "count            569.000000      569.000000               569.000000   \n",
       "mean               0.114606        0.290076                 0.083946   \n",
       "std                0.065732        0.061867                 0.018061   \n",
       "min                0.000000        0.156500                 0.055040   \n",
       "25%                0.064930        0.250400                 0.071460   \n",
       "50%                0.099930        0.282200                 0.080040   \n",
       "75%                0.161400        0.317900                 0.092080   \n",
       "max                0.291000        0.663800                 0.207500   \n",
       "\n",
       "       Unnamed: 32  \n",
       "count          0.0  \n",
       "mean           NaN  \n",
       "std            NaN  \n",
       "min            NaN  \n",
       "25%            NaN  \n",
       "50%            NaN  \n",
       "75%            NaN  \n",
       "max            NaN  \n",
       "\n",
       "[8 rows x 32 columns]"
      ]
     },
     "execution_count": 6,
     "metadata": {},
     "output_type": "execute_result"
    }
   ],
   "source": [
    "cancer.describe()"
   ]
  },
  {
   "cell_type": "code",
   "execution_count": 7,
   "id": "024ac951-8e79-422c-993c-3af2540218b5",
   "metadata": {},
   "outputs": [],
   "source": [
    "iterations = 1000\n",
    "learning_rate = 0.01"
   ]
  },
  {
   "cell_type": "code",
   "execution_count": 8,
   "id": "8240b1c7-5d30-4534-8c42-be66ed593074",
   "metadata": {},
   "outputs": [],
   "source": [
    "diabetes_reg = diabetes[['Outcome', 'Pregnancies', 'Glucose', 'BloodPressure', 'SkinThickness', 'Insulin', 'BMI', 'DiabetesPedigreeFunction', 'Age']]\n",
    "data_diabetes=diabetes_reg[['Outcome', 'Pregnancies', 'Glucose', 'BloodPressure', 'SkinThickness', 'Insulin', 'BMI', 'DiabetesPedigreeFunction', 'Age']]\n",
    "\n",
    "\n",
    "train_diabetes, eval_diabetes = train_test_split(data_diabetes, test_size=0.2, random_state=42)"
   ]
  },
  {
   "cell_type": "code",
   "execution_count": 9,
   "id": "96e7402b-fa71-405d-aaf9-cd6ef15e7005",
   "metadata": {},
   "outputs": [],
   "source": [
    "cancer.replace({'M': 1, 'B': 0}, inplace=True)\n",
    "cancer_reg = cancer[['diagnosis', 'radius_mean', 'texture_mean', 'perimeter_mean', 'area_mean', 'smoothness_mean', 'compactness_mean', 'concavity_mean', 'concave points_mean', 'symmetry_mean', 'fractal_dimension_mean', 'radius_se', 'texture_se', 'perimeter_se', 'area_se', 'smoothness_se', 'compactness_se', 'concavity_se', 'concave points_se', 'symmetry_se', 'fractal_dimension_se', 'radius_worst', 'texture_worst', 'perimeter_worst', 'area_worst', 'smoothness_worst', 'compactness_worst', 'concavity_worst', 'concave points_worst', 'symmetry_worst', 'fractal_dimension_worst']]\n",
    "data_cancer=cancer_reg[['diagnosis', 'radius_mean', 'texture_mean', 'perimeter_mean', 'area_mean', 'smoothness_mean', 'compactness_mean', 'concavity_mean', 'concave points_mean', 'symmetry_mean', 'fractal_dimension_mean', 'radius_se', 'texture_se', 'perimeter_se', 'area_se', 'smoothness_se', 'compactness_se', 'concavity_se', 'concave points_se', 'symmetry_se', 'fractal_dimension_se', 'radius_worst', 'texture_worst', 'perimeter_worst', 'area_worst', 'smoothness_worst', 'compactness_worst', 'concavity_worst', 'concave points_worst', 'symmetry_worst', 'fractal_dimension_worst']]\n",
    "\n",
    "train_cancer, eval_cancer = train_test_split(data_cancer, test_size=0.2, random_state=42)\n"
   ]
  },
  {
   "cell_type": "code",
   "execution_count": 10,
   "id": "a4d28865-2087-4ce5-b794-4a7c87324f4d",
   "metadata": {},
   "outputs": [],
   "source": [
    "def standardize(X):\n",
    "    mu = np.mean(X, axis=0)\n",
    "    sigma = np.std(X, axis=0)\n",
    "    X_std = (X - mu) / sigma\n",
    "    return X_std"
   ]
  },
  {
   "cell_type": "code",
   "execution_count": 11,
   "id": "7180059f-501b-4a6e-9276-687f6e2e6174",
   "metadata": {},
   "outputs": [],
   "source": [
    "XDt=train_diabetes[['Pregnancies', 'Glucose', 'BloodPressure', 'SkinThickness', 'Insulin', 'BMI', 'DiabetesPedigreeFunction', 'Age']]\n",
    "XDt=(XDt-XDt.mean())/XDt.std()\n",
    "XDt=XDt.values\n",
    "XDt=standardize(XDt)\n",
    "XDe=eval_diabetes[['Pregnancies', 'Glucose', 'BloodPressure', 'SkinThickness', 'Insulin', 'BMI', 'DiabetesPedigreeFunction', 'Age']]\n",
    "XDe=(XDe-XDe.mean())/XDe.std()\n",
    "XDe=XDe.values\n",
    "XDe=standardize(XDe)"
   ]
  },
  {
   "cell_type": "code",
   "execution_count": 12,
   "id": "ecf03f00-0fb4-4aab-a1a6-6882d9cc716b",
   "metadata": {},
   "outputs": [],
   "source": [
    "XCt=train_cancer[['radius_mean', 'texture_mean', 'perimeter_mean', 'area_mean', 'smoothness_mean', 'compactness_mean', 'concavity_mean', 'concave points_mean', 'symmetry_mean', 'fractal_dimension_mean', 'radius_se', 'texture_se', 'perimeter_se', 'area_se', 'smoothness_se', 'compactness_se', 'concavity_se', 'concave points_se', 'symmetry_se', 'fractal_dimension_se', 'radius_worst', 'texture_worst', 'perimeter_worst', 'area_worst', 'smoothness_worst', 'compactness_worst', 'concavity_worst', 'concave points_worst', 'symmetry_worst', 'fractal_dimension_worst']]\n",
    "XCt=(XCt-XCt.mean())/XCt.std()\n",
    "XCt=XCt.values\n",
    "XCt=standardize(XCt)\n",
    "XCe=eval_cancer[['radius_mean', 'texture_mean', 'perimeter_mean', 'area_mean', 'smoothness_mean', 'compactness_mean', 'concavity_mean', 'concave points_mean', 'symmetry_mean', 'fractal_dimension_mean', 'radius_se', 'texture_se', 'perimeter_se', 'area_se', 'smoothness_se', 'compactness_se', 'concavity_se', 'concave points_se', 'symmetry_se', 'fractal_dimension_se', 'radius_worst', 'texture_worst', 'perimeter_worst', 'area_worst', 'smoothness_worst', 'compactness_worst', 'concavity_worst', 'concave points_worst', 'symmetry_worst', 'fractal_dimension_worst']]\n",
    "XCe=(XCe-XCe.mean())/XCe.std()\n",
    "XCe=XCe.values\n",
    "XCe=standardize(XCe)"
   ]
  },
  {
   "cell_type": "code",
   "execution_count": 13,
   "id": "830636e0-a2ee-4531-b4f3-4a1ab5f4b99b",
   "metadata": {},
   "outputs": [],
   "source": [
    "YDt = train_diabetes[['Outcome']]\n",
    "YDt=YDt.values\n",
    "YDe = eval_diabetes[['Outcome']]\n",
    "YDe=YDe.values\n",
    "YCt = train_cancer[['diagnosis']]\n",
    "YCt=YCt.values\n",
    "YCe = eval_cancer[['diagnosis']]\n",
    "YCe=YCe.values"
   ]
  },
  {
   "cell_type": "code",
   "execution_count": 14,
   "id": "8218a022-bbcb-4738-9a14-8b8a5a952b0a",
   "metadata": {},
   "outputs": [],
   "source": [
    "def sigmoid(z):\n",
    "    return 1 / (1 + np.exp(-z))\n",
    "\n",
    "def predicted_y(theta, x, intercept):\n",
    "    y_lst = []\n",
    "    for i in range(len(x)):\n",
    "        y_lst.append(sigmoid(theta @ x[i] + intercept))\n",
    "    return np.array(y_lst)\n",
    "\n",
    "def loss(y,y_predicted):\n",
    "    n=len(y)\n",
    "    s=0\n",
    "    for i in range(n):\n",
    "        s+=(y[i]-y_predicted[i])**2\n",
    "    return (1/n)*s\n",
    "\n",
    "def accuracy(y, y_predicted):\n",
    "    y_pred_class = np.round(y_predicted)\n",
    "    return np.mean(y == y_pred_class)\n",
    "\n",
    "def precision(y, y_predicted):\n",
    "    y_pred_class = np.round(y_predicted)\n",
    "    true_positive = np.sum((y == 1) & (y_pred_class == 1))\n",
    "    predicted_positive = np.sum(y_pred_class == 1)\n",
    "    return true_positive / predicted_positive if predicted_positive != 0 else 0\n",
    "\n",
    "def recall(y, y_predicted):\n",
    "    y_pred_class = np.round(y_predicted)\n",
    "    true_positive = np.sum((y == 1) & (y_pred_class == 1))\n",
    "    actual_positive = np.sum(y == 1)\n",
    "    return true_positive / actual_positive if actual_positive != 0 else 0\n",
    "\n",
    "def f1_score(y, y_predicted):\n",
    "    prec = precision(y, y_predicted)\n",
    "    rec = recall(y, y_predicted)\n",
    "    return 2 * (prec * rec) / (prec + rec) if (prec + rec) != 0 else 0\n",
    "\n",
    "def dldt(x, y, y_predicted):\n",
    "    s = 0\n",
    "    n = len(y)\n",
    "    for i in range(n):\n",
    "        s += -x[i] * (y[i] - y_predicted[i])\n",
    "    return (2 / n) * s\n",
    "\n",
    "def dldb(y, y_predicted):\n",
    "    n = len(y)\n",
    "    s = 0\n",
    "    for i in range(len(y)):\n",
    "        s += -(y[i] - y_predicted[i])\n",
    "    return (2 / n) * s\n",
    "\n",
    "def gradient_descent(x, y, learning_rate, iterations):\n",
    "    theta_vector = np.zeros(x.shape[1])\n",
    "    intercept = 0\n",
    "    n = len(x)\n",
    "    logistic_loss = []\n",
    "\n",
    "    for i in range(iterations):\n",
    "        y_predicted = predicted_y(theta_vector, x, intercept)\n",
    "\n",
    "        theta_vector = theta_vector - learning_rate * dldt(x, y, y_predicted)\n",
    "        intercept = intercept - learning_rate * dldb(y, y_predicted)\n",
    "        logistic_loss.append(loss(y, y_predicted))\n",
    "\n",
    "    return theta_vector, intercept, logistic_loss"
   ]
  },
  {
   "cell_type": "code",
   "execution_count": 15,
   "id": "1881c0c0-4994-4a0c-918a-3834b22b4d3f",
   "metadata": {},
   "outputs": [],
   "source": [
    "tD,bD,lD=gradient_descent(XDt,YDt,learning_rate,iterations)"
   ]
  },
  {
   "cell_type": "code",
   "execution_count": 16,
   "id": "6b4a24b7-358a-437f-bb08-9f55b755ceb3",
   "metadata": {},
   "outputs": [
    {
     "name": "stdout",
     "output_type": "stream",
     "text": [
      "theta: [ 0.21426887  0.9409237  -0.17708245  0.01021747 -0.11207294  0.67583647\n",
      "  0.22328004  0.38927518]\n",
      "bias: [-0.80206874]\n"
     ]
    }
   ],
   "source": [
    "print(\"theta:\",tD)\n",
    "print(\"bias:\",bD)"
   ]
  },
  {
   "cell_type": "code",
   "execution_count": 17,
   "id": "038985e1-e18e-4b8b-972a-814d60bd2cf8",
   "metadata": {},
   "outputs": [],
   "source": [
    "def predictBinary(inp, t, b):\n",
    "    y_lst=[]\n",
    "    for i in range(len(inp)):\n",
    "        y_lst.append(t@inp[i]+b)\n",
    "    y_lst = np.array(y_lst)\n",
    "    y_binary_lst=(y_lst >= 0.5).astype(int)\n",
    "    return y_binary_lst"
   ]
  },
  {
   "cell_type": "code",
   "execution_count": 18,
   "id": "641128e9-11ce-493b-ab2b-e5d910a45fc1",
   "metadata": {},
   "outputs": [],
   "source": [
    "YDp=predictBinary(XDe, tD, bD)"
   ]
  },
  {
   "cell_type": "code",
   "execution_count": 19,
   "id": "ffaa2c82-7e9d-4902-9618-8ab2a5dee31c",
   "metadata": {},
   "outputs": [],
   "source": [
    "def lossComp(y, y_predicted, iterations, linear_loss):\n",
    "    experimental_loss=[]\n",
    "    experimental_accuracy = []\n",
    "    for i in range(iterations):\n",
    "        experimental_loss.append(loss(y,y_predicted))\n",
    "        experimental_accuracy.append(accuracy(y, y_predicted))\n",
    "    fig, ax1 = plt.subplots()\n",
    "\n",
    "    ax1.set_xlabel('Number of iterations')\n",
    "    ax1.set_ylabel('Loss', color='tab:red')\n",
    "    ax1.plot(np.arange(1, iterations + 1), linear_loss, color='tab:red', label='Linear Loss')\n",
    "    ax1.plot(np.arange(1, iterations + 1), experimental_loss, color='tab:orange', label='Experimental Loss')\n",
    "    ax1.tick_params(axis='y', labelcolor='tab:red')\n",
    "\n",
    "    ax2 = ax1.twinx()\n",
    "    ax2.set_ylabel('Accuracy', color='tab:blue')\n",
    "    ax2.plot(np.arange(1, iterations + 1), experimental_accuracy, color='tab:blue', label='Experimental Accuracy')\n",
    "    ax2.tick_params(axis='y', labelcolor='tab:blue')\n",
    "\n",
    "    fig.tight_layout()\n",
    "    plt.show()"
   ]
  },
  {
   "cell_type": "code",
   "execution_count": 20,
   "id": "b3a49dde-d1f8-4189-93ff-986fdcfb3b13",
   "metadata": {},
   "outputs": [
    {
     "data": {
      "image/png": "[encoded data removed]",
      "text/plain": [
       "<Figure size 640x480 with 2 Axes>"
      ]
     },
     "metadata": {},
     "output_type": "display_data"
    }
   ],
   "source": [
    "lossComp(YDe, YDp, iterations, lD)"
   ]
  },
  {
   "cell_type": "code",
   "execution_count": 21,
   "id": "570853f5-4212-4dcc-99d2-a01fae14d415",
   "metadata": {},
   "outputs": [
    {
     "data": {
      "text/plain": [
       "0.7792207792207793"
      ]
     },
     "execution_count": 21,
     "metadata": {},
     "output_type": "execute_result"
    }
   ],
   "source": [
    "accuracy(YDe, YDp)"
   ]
  },
  {
   "cell_type": "code",
   "execution_count": 22,
   "id": "a050cb42-e377-4fc3-ae4a-ab5dac5bfedc",
   "metadata": {},
   "outputs": [
    {
     "data": {
      "text/plain": [
       "0.8"
      ]
     },
     "execution_count": 22,
     "metadata": {},
     "output_type": "execute_result"
    }
   ],
   "source": [
    "precision(YDe, YDp)"
   ]
  },
  {
   "cell_type": "code",
   "execution_count": 23,
   "id": "1c95c613-29d8-4f33-a7bb-336f99da3dd3",
   "metadata": {},
   "outputs": [
    {
     "data": {
      "text/plain": [
       "0.509090909090909"
      ]
     },
     "execution_count": 23,
     "metadata": {},
     "output_type": "execute_result"
    }
   ],
   "source": [
    "recall(YDe, YDp)"
   ]
  },
  {
   "cell_type": "code",
   "execution_count": 24,
   "id": "5c4eea15-f9ef-41a7-a409-3c87f87af8c2",
   "metadata": {},
   "outputs": [
    {
     "data": {
      "text/plain": [
       "0.6222222222222221"
      ]
     },
     "execution_count": 24,
     "metadata": {},
     "output_type": "execute_result"
    }
   ],
   "source": [
    "f1_score(YDe, YDp)"
   ]
  },
  {
   "cell_type": "code",
   "execution_count": 25,
   "id": "7c02ce51-f64e-4e9c-a8b0-d55d9f3108e7",
   "metadata": {},
   "outputs": [
    {
     "data": {
      "text/plain": [
       "array([[92,  7],\n",
       "       [27, 28]], dtype=int64)"
      ]
     },
     "execution_count": 25,
     "metadata": {},
     "output_type": "execute_result"
    }
   ],
   "source": [
    "cnf_matrix_diabetes = metrics.confusion_matrix(YDe, YDp)\n",
    "cnf_matrix_diabetes"
   ]
  },
  {
   "cell_type": "code",
   "execution_count": 26,
   "id": "04a32ded-0655-49ae-abe3-b7f696c6719c",
   "metadata": {},
   "outputs": [],
   "source": [
    "tC,bC,lC=gradient_descent(XCt,YCt,learning_rate,iterations)"
   ]
  },
  {
   "cell_type": "code",
   "execution_count": 27,
   "id": "b296c83a-d3cd-469f-b3df-c49eec67482e",
   "metadata": {},
   "outputs": [
    {
     "name": "stdout",
     "output_type": "stream",
     "text": [
      "theta: [ 0.44009199  0.46675806  0.43281922  0.44375244  0.17294984  0.08886195\n",
      "  0.36125589  0.48900697  0.0856734  -0.19939592  0.44338408  0.01330636\n",
      "  0.35280341  0.38447448  0.03530259 -0.20723139 -0.1129312   0.04673321\n",
      " -0.11580995 -0.26799379  0.5477442   0.59204031  0.51267846  0.52113734\n",
      "  0.40125453  0.21388045  0.37133621  0.48701102  0.41438064  0.10447677]\n",
      "bias: [-0.44526719]\n"
     ]
    }
   ],
   "source": [
    "print(\"theta:\",tC)\n",
    "print(\"bias:\",bC)"
   ]
  },
  {
   "cell_type": "code",
   "execution_count": 28,
   "id": "50dc9bef-2f7f-4e20-8b48-a055db19fbb9",
   "metadata": {},
   "outputs": [],
   "source": [
    "YCp=predictBinary(XCe, tC, bC)"
   ]
  },
  {
   "cell_type": "code",
   "execution_count": 29,
   "id": "6f259176-4682-4e6b-b362-d77851a67bbe",
   "metadata": {},
   "outputs": [
    {
     "data": {
      "image/png": "[encoded data removed]",
      "text/plain": [
       "<Figure size 640x480 with 2 Axes>"
      ]
     },
     "metadata": {},
     "output_type": "display_data"
    }
   ],
   "source": [
    "lossComp(YCe, YCp, iterations, lC)"
   ]
  },
  {
   "cell_type": "code",
   "execution_count": 30,
   "id": "e9e8d6ba-467d-4011-a8f0-def6ea7d15fc",
   "metadata": {},
   "outputs": [
    {
     "data": {
      "text/plain": [
       "0.9736842105263158"
      ]
     },
     "execution_count": 30,
     "metadata": {},
     "output_type": "execute_result"
    }
   ],
   "source": [
    "accuracy(YCe, YCp)"
   ]
  },
  {
   "cell_type": "code",
   "execution_count": 31,
   "id": "7fd76bed-b32b-4104-8e7c-1fe5599a29e2",
   "metadata": {},
   "outputs": [
    {
     "data": {
      "text/plain": [
       "1.0"
      ]
     },
     "execution_count": 31,
     "metadata": {},
     "output_type": "execute_result"
    }
   ],
   "source": [
    "precision(YCe, YCp)"
   ]
  },
  {
   "cell_type": "code",
   "execution_count": 32,
   "id": "81ff7168-246c-4d6d-b2fa-c761cdb7a6fe",
   "metadata": {},
   "outputs": [
    {
     "data": {
      "text/plain": [
       "0.9302325581395349"
      ]
     },
     "execution_count": 32,
     "metadata": {},
     "output_type": "execute_result"
    }
   ],
   "source": [
    "recall(YCe, YCp)"
   ]
  },
  {
   "cell_type": "code",
   "execution_count": 33,
   "id": "de80ff21-550e-4142-9a0d-8481b3d5ebbc",
   "metadata": {},
   "outputs": [
    {
     "data": {
      "text/plain": [
       "0.963855421686747"
      ]
     },
     "execution_count": 33,
     "metadata": {},
     "output_type": "execute_result"
    }
   ],
   "source": [
    "f1_score(YCe, YCp)"
   ]
  },
  {
   "cell_type": "code",
   "execution_count": 34,
   "id": "d8ffbbe9-9a7a-4c2b-831f-c9549a58b09b",
   "metadata": {},
   "outputs": [
    {
     "data": {
      "text/plain": [
       "array([[71,  0],\n",
       "       [ 3, 40]], dtype=int64)"
      ]
     },
     "execution_count": 34,
     "metadata": {},
     "output_type": "execute_result"
    }
   ],
   "source": [
    "cnf_matrix_cancer = metrics.confusion_matrix(YCe, YCp)\n",
    "cnf_matrix_cancer"
   ]
  },
  {
   "cell_type": "code",
   "execution_count": 35,
   "id": "1fa3f28c-4df6-41e8-ae64-7c6e4cd406d7",
   "metadata": {},
   "outputs": [],
   "source": [
    "def lossRidge(y,y_predicted,theta,Lambda):\n",
    "    n=len(y)\n",
    "    s=0\n",
    "    for i in range(n):\n",
    "        s+=(y[i]-y_predicted[i])**2\n",
    "    Ridge = Lambda * sum(t**2 for t in theta)\n",
    "    \n",
    "    return (1/n)*s + Ridge"
   ]
  },
  {
   "cell_type": "code",
   "execution_count": 36,
   "id": "671bcfc5-fc8d-42d2-8baf-df6426065576",
   "metadata": {},
   "outputs": [],
   "source": [
    "def gradient_descentRidge(x,y,learning_rate,iterations):\n",
    "    theta_vector=np.zeros(x.shape[1])\n",
    "    intercept=0\n",
    "    n = len(x)\n",
    "    linear_loss=[]\n",
    "    Lambda = 0.01\n",
    "\n",
    "    for i in range(iterations):\n",
    "        \n",
    "        \n",
    "        y_predicted = predicted_y(theta_vector,x,intercept)\n",
    "        \n",
    "        theta_vector = theta_vector - learning_rate *dldt(x,y,y_predicted) \n",
    "        \n",
    "        \n",
    "        intercept = intercept - learning_rate * dldb(y,y_predicted)\n",
    "        linear_loss.append(lossRidge(y,y_predicted,theta_vector,Lambda))\n",
    "    \n",
    "    return theta_vector,intercept, linear_loss"
   ]
  },
  {
   "cell_type": "code",
   "execution_count": 37,
   "id": "ccfc5abb-e908-42b3-af36-aae2f493ea76",
   "metadata": {},
   "outputs": [],
   "source": [
    "tCW,bCW,lCW=gradient_descentRidge(XCt,YCt,learning_rate,iterations)"
   ]
  },
  {
   "cell_type": "code",
   "execution_count": 38,
   "id": "4f693f35-d113-4d6a-b6d1-fa9bced02ca8",
   "metadata": {},
   "outputs": [
    {
     "name": "stdout",
     "output_type": "stream",
     "text": [
      "theta: [ 0.44009199  0.46675806  0.43281922  0.44375244  0.17294984  0.08886195\n",
      "  0.36125589  0.48900697  0.0856734  -0.19939592  0.44338408  0.01330636\n",
      "  0.35280341  0.38447448  0.03530259 -0.20723139 -0.1129312   0.04673321\n",
      " -0.11580995 -0.26799379  0.5477442   0.59204031  0.51267846  0.52113734\n",
      "  0.40125453  0.21388045  0.37133621  0.48701102  0.41438064  0.10447677]\n",
      "bias: [-0.44526719]\n"
     ]
    }
   ],
   "source": [
    "print(\"theta:\",tC)\n",
    "print(\"bias:\",bC)"
   ]
  },
  {
   "cell_type": "code",
   "execution_count": 39,
   "id": "0993c2dc-7515-4905-a9cd-1bd382adb674",
   "metadata": {},
   "outputs": [],
   "source": [
    "YCWp=predictBinary(XCe, tCW, bCW)"
   ]
  },
  {
   "cell_type": "code",
   "execution_count": 40,
   "id": "3c768e07-9cce-48f2-ab13-cd62a8f795a1",
   "metadata": {},
   "outputs": [
    {
     "data": {
      "image/png": "[encoded data removed]",
      "text/plain": [
       "<Figure size 640x480 with 2 Axes>"
      ]
     },
     "metadata": {},
     "output_type": "display_data"
    }
   ],
   "source": [
    "lossComp(YCe, YCWp, iterations, lCW)"
   ]
  },
  {
   "cell_type": "code",
   "execution_count": 41,
   "id": "c0c9854f-6981-4874-b51e-e21bd62886d8",
   "metadata": {},
   "outputs": [
    {
     "data": {
      "text/plain": [
       "(0.9736842105263158, 0.9736842105263158)"
      ]
     },
     "execution_count": 41,
     "metadata": {},
     "output_type": "execute_result"
    }
   ],
   "source": [
    "accuracy(YCe, YCWp), accuracy(YCe, YCp)"
   ]
  },
  {
   "cell_type": "code",
   "execution_count": 42,
   "id": "c9d06bfc-d470-4c59-98da-d815a2895eac",
   "metadata": {},
   "outputs": [
    {
     "data": {
      "text/plain": [
       "(1.0, 1.0)"
      ]
     },
     "execution_count": 42,
     "metadata": {},
     "output_type": "execute_result"
    }
   ],
   "source": [
    "precision(YCe, YCWp), precision(YCe, YCp)"
   ]
  },
  {
   "cell_type": "code",
   "execution_count": 43,
   "id": "b8c31748-17dc-42d6-b570-3819a6c356d1",
   "metadata": {},
   "outputs": [
    {
     "data": {
      "text/plain": [
       "(0.9302325581395349, 0.9302325581395349)"
      ]
     },
     "execution_count": 43,
     "metadata": {},
     "output_type": "execute_result"
    }
   ],
   "source": [
    "recall(YCe, YCWp), recall(YCe, YCp)"
   ]
  },
  {
   "cell_type": "code",
   "execution_count": 44,
   "id": "cd09e358-f72c-4dfa-badf-564e2de6178c",
   "metadata": {},
   "outputs": [
    {
     "data": {
      "text/plain": [
       "(0.963855421686747, 0.963855421686747)"
      ]
     },
     "execution_count": 44,
     "metadata": {},
     "output_type": "execute_result"
    }
   ],
   "source": [
    "f1_score(YCe, YCWp), f1_score(YCe, YCp)"
   ]
  },
  {
   "cell_type": "code",
   "execution_count": 45,
   "id": "e8b8ad55-b434-4571-b007-fd204f01ff25",
   "metadata": {},
   "outputs": [
    {
     "data": {
      "text/plain": [
       "array([[71,  0],\n",
       "       [ 3, 40]], dtype=int64)"
      ]
     },
     "execution_count": 45,
     "metadata": {},
     "output_type": "execute_result"
    }
   ],
   "source": [
    "cnf_matrix_cancer_weights = metrics.confusion_matrix(YCe, YCWp)\n",
    "cnf_matrix_cancer_weights"
   ]
  },
  {
   "cell_type": "code",
   "execution_count": 46,
   "id": "df226a0e-2e8d-4e46-9167-346ee78b2816",
   "metadata": {},
   "outputs": [
    {
     "data": {
      "text/plain": [
       "array([[-1.44075296, -0.43531947, -1.36208497, ...,  0.9320124 ,\n",
       "         2.09724217,  1.88645014],\n",
       "       [ 1.97409619,  1.73302577,  2.09167167, ...,  2.6989469 ,\n",
       "         1.89116053,  2.49783848],\n",
       "       [-1.39998202, -1.24962228, -1.34520926, ..., -0.97023893,\n",
       "         0.59760192,  0.0578942 ],\n",
       "       ...,\n",
       "       [ 0.04880192, -0.55500086, -0.06512547, ..., -1.23903365,\n",
       "        -0.70863864, -1.27145475],\n",
       "       [-0.03896885,  0.10207345, -0.03137406, ...,  1.05001236,\n",
       "         0.43432185,  1.21336207],\n",
       "       [-0.54860557,  0.31327591, -0.60350155, ..., -0.61102866,\n",
       "        -0.3345212 , -0.84628745]])"
      ]
     },
     "execution_count": 46,
     "metadata": {},
     "output_type": "execute_result"
    }
   ],
   "source": [
    "np.ravel(YCt)\n",
    "XCt"
   ]
  },
  {
   "cell_type": "code",
   "execution_count": 47,
   "id": "2c1b0e1e-b1a3-486f-bf4c-e00f93abb879",
   "metadata": {},
   "outputs": [
    {
     "data": {
      "text/html": [
       "<style>#sk-container-id-1 {color: black;background-color: white;}#sk-container-id-1 pre{padding: 0;}#sk-container-id-1 div.sk-toggleable {background-color: white;}#sk-container-id-1 label.sk-toggleable__label {cursor: pointer;display: block;width: 100%;margin-bottom: 0;padding: 0.3em;box-sizing: border-box;text-align: center;}#sk-container-id-1 label.sk-toggleable__label-arrow:before {content: \"▸\";float: left;margin-right: 0.25em;color: #696969;}#sk-container-id-1 label.sk-toggleable__label-arrow:hover:before {color: black;}#sk-container-id-1 div.sk-estimator:hover label.sk-toggleable__label-arrow:before {color: black;}#sk-container-id-1 div.sk-toggleable__content {max-height: 0;max-width: 0;overflow: hidden;text-align: left;background-color: #f0f8ff;}#sk-container-id-1 div.sk-toggleable__content pre {margin: 0.2em;color: black;border-radius: 0.25em;background-color: #f0f8ff;}#sk-container-id-1 input.sk-toggleable__control:checked~div.sk-toggleable__content {max-height: 200px;max-width: 100%;overflow: auto;}#sk-container-id-1 input.sk-toggleable__control:checked~label.sk-toggleable__label-arrow:before {content: \"▾\";}#sk-container-id-1 div.sk-estimator input.sk-toggleable__control:checked~label.sk-toggleable__label {background-color: #d4ebff;}#sk-container-id-1 div.sk-label input.sk-toggleable__control:checked~label.sk-toggleable__label {background-color: #d4ebff;}#sk-container-id-1 input.sk-hidden--visually {border: 0;clip: rect(1px 1px 1px 1px);clip: rect(1px, 1px, 1px, 1px);height: 1px;margin: -1px;overflow: hidden;padding: 0;position: absolute;width: 1px;}#sk-container-id-1 div.sk-estimator {font-family: monospace;background-color: #f0f8ff;border: 1px dotted black;border-radius: 0.25em;box-sizing: border-box;margin-bottom: 0.5em;}#sk-container-id-1 div.sk-estimator:hover {background-color: #d4ebff;}#sk-container-id-1 div.sk-parallel-item::after {content: \"\";width: 100%;border-bottom: 1px solid gray;flex-grow: 1;}#sk-container-id-1 div.sk-label:hover label.sk-toggleable__label {background-color: #d4ebff;}#sk-container-id-1 div.sk-serial::before {content: \"\";position: absolute;border-left: 1px solid gray;box-sizing: border-box;top: 0;bottom: 0;left: 50%;z-index: 0;}#sk-container-id-1 div.sk-serial {display: flex;flex-direction: column;align-items: center;background-color: white;padding-right: 0.2em;padding-left: 0.2em;position: relative;}#sk-container-id-1 div.sk-item {position: relative;z-index: 1;}#sk-container-id-1 div.sk-parallel {display: flex;align-items: stretch;justify-content: center;background-color: white;position: relative;}#sk-container-id-1 div.sk-item::before, #sk-container-id-1 div.sk-parallel-item::before {content: \"\";position: absolute;border-left: 1px solid gray;box-sizing: border-box;top: 0;bottom: 0;left: 50%;z-index: -1;}#sk-container-id-1 div.sk-parallel-item {display: flex;flex-direction: column;z-index: 1;position: relative;background-color: white;}#sk-container-id-1 div.sk-parallel-item:first-child::after {align-self: flex-end;width: 50%;}#sk-container-id-1 div.sk-parallel-item:last-child::after {align-self: flex-start;width: 50%;}#sk-container-id-1 div.sk-parallel-item:only-child::after {width: 0;}#sk-container-id-1 div.sk-dashed-wrapped {border: 1px dashed gray;margin: 0 0.4em 0.5em 0.4em;box-sizing: border-box;padding-bottom: 0.4em;background-color: white;}#sk-container-id-1 div.sk-label label {font-family: monospace;font-weight: bold;display: inline-block;line-height: 1.2em;}#sk-container-id-1 div.sk-label-container {text-align: center;}#sk-container-id-1 div.sk-container {/* jupyter's `normalize.less` sets `[hidden] { display: none; }` but bootstrap.min.css set `[hidden] { display: none !important; }` so we also need the `!important` here to be able to override the default hidden behavior on the sphinx rendered scikit-learn.org. See: https://github.com/scikit-learn/scikit-learn/issues/21755 */display: inline-block !important;position: relative;}#sk-container-id-1 div.sk-text-repr-fallback {display: none;}</style><div id=\"sk-container-id-1\" class=\"sk-top-container\"><div class=\"sk-text-repr-fallback\"><pre>GaussianNB()</pre><b>In a Jupyter environment, please rerun this cell to show the HTML representation or trust the notebook. <br />On GitHub, the HTML representation is unable to render, please try loading this page with nbviewer.org.</b></div><div class=\"sk-container\" hidden><div class=\"sk-item\"><div class=\"sk-estimator sk-toggleable\"><input class=\"sk-toggleable__control sk-hidden--visually\" id=\"sk-estimator-id-1\" type=\"checkbox\" checked><label for=\"sk-estimator-id-1\" class=\"sk-toggleable__label sk-toggleable__label-arrow\">GaussianNB</label><div class=\"sk-toggleable__content\"><pre>GaussianNB()</pre></div></div></div></div></div>"
      ],
      "text/plain": [
       "GaussianNB()"
      ]
     },
     "execution_count": 47,
     "metadata": {},
     "output_type": "execute_result"
    }
   ],
   "source": [
    "from sklearn.naive_bayes import GaussianNB\n",
    "gnb = GaussianNB()\n",
    "gnb.fit(XCt, np.ravel(YCt))"
   ]
  },
  {
   "cell_type": "code",
   "execution_count": 48,
   "id": "165c0f75-9157-4e00-8865-d06ec04e2439",
   "metadata": {},
   "outputs": [],
   "source": [
    "YCBp = gnb.predict(XCe)\n",
    "YCBp = YCBp.reshape(-1, 1)"
   ]
  },
  {
   "cell_type": "code",
   "execution_count": 49,
   "id": "e1e64e9c-2ef8-49b1-a825-24eda6549940",
   "metadata": {},
   "outputs": [
    {
     "data": {
      "text/plain": [
       "(0.956140350877193, 0.9736842105263158, 0.9736842105263158)"
      ]
     },
     "execution_count": 49,
     "metadata": {},
     "output_type": "execute_result"
    }
   ],
   "source": [
    "accuracy(YCe, YCBp), accuracy(YCe, YCWp), accuracy(YCe, YCp)"
   ]
  },
  {
   "cell_type": "code",
   "execution_count": 50,
   "id": "0ff1495c-8003-43c4-8b51-b66d36d57ca6",
   "metadata": {},
   "outputs": [
    {
     "data": {
      "text/plain": [
       "(0.975, 1.0, 1.0)"
      ]
     },
     "execution_count": 50,
     "metadata": {},
     "output_type": "execute_result"
    }
   ],
   "source": [
    "precision(YCe, YCBp), precision(YCe, YCWp), precision(YCe, YCp)"
   ]
  },
  {
   "cell_type": "code",
   "execution_count": 51,
   "id": "403b99af-d763-476e-a259-666aa443ee1f",
   "metadata": {},
   "outputs": [
    {
     "data": {
      "text/plain": [
       "(0.9069767441860465, 0.9302325581395349, 0.9302325581395349)"
      ]
     },
     "execution_count": 51,
     "metadata": {},
     "output_type": "execute_result"
    }
   ],
   "source": [
    "recall(YCe, YCBp), recall(YCe, YCWp), recall(YCe, YCp)"
   ]
  },
  {
   "cell_type": "code",
   "execution_count": 52,
   "id": "3992d29e-8001-4eff-9b65-e2cee4d36c62",
   "metadata": {},
   "outputs": [
    {
     "data": {
      "text/plain": [
       "(0.9397590361445783, 0.963855421686747, 0.963855421686747)"
      ]
     },
     "execution_count": 52,
     "metadata": {},
     "output_type": "execute_result"
    }
   ],
   "source": [
    "f1_score(YCe, YCBp), f1_score(YCe, YCWp), f1_score(YCe, YCp)"
   ]
  },
  {
   "cell_type": "code",
   "execution_count": 53,
   "id": "d14ddd68-24d7-44c5-98b4-921cdfde248c",
   "metadata": {},
   "outputs": [
    {
     "data": {
      "text/plain": [
       "array([[70,  1],\n",
       "       [ 4, 39]], dtype=int64)"
      ]
     },
     "execution_count": 53,
     "metadata": {},
     "output_type": "execute_result"
    }
   ],
   "source": [
    "cnf_matrix_cancer_weights = metrics.confusion_matrix(YCe, YCBp)\n",
    "cnf_matrix_cancer_weights"
   ]
  },
  {
   "cell_type": "code",
   "execution_count": 54,
   "id": "beaff11a-dd64-49b7-9f35-2d305d090850",
   "metadata": {},
   "outputs": [],
   "source": [
    "def apply_pca(x, k):\n",
    "    pca = PCA(n_components=k)\n",
    "    return pca.fit_transform(x), pca\n",
    "\n",
    "def generate_k_values(max_value):\n",
    "    return list(range(1, max_value + 1))\n",
    "\n",
    "def train_k_values(x, y, learning_rate, iterations, k_values):\n",
    "    best_k = None\n",
    "    best_accuracy = 0\n",
    "    accuracy_scores = []\n",
    "    precision_scores = []\n",
    "    recall_scores = []\n",
    "    f1_scores = []\n",
    "\n",
    "    for k in k_values:\n",
    "        x_pca, pca = apply_pca(x, k)\n",
    "        theta, intercept, _ = gradient_descent(x_pca, y, learning_rate, iterations)\n",
    "        y_pred = predicted_y(theta, x_pca, intercept)\n",
    "        acc = accuracy(y, y_pred)\n",
    "        prec = precision(y, y_pred)\n",
    "        rec = recall(y, y_pred)\n",
    "        f1 = f1_score(y, y_pred)\n",
    "        accuracy_scores.append(acc)\n",
    "        precision_scores.append(prec)\n",
    "        recall_scores.append(rec)\n",
    "        f1_scores.append(f1)\n",
    "        \n",
    "        if acc > best_accuracy:\n",
    "            best_accuracy = acc\n",
    "            best_k = k\n",
    "    \n",
    "    return best_k, best_accuracy, np.array(accuracy_scores), np.array(precision_scores), np.array(recall_scores), np.array(f1_scores)\n"
   ]
  },
  {
   "cell_type": "code",
   "execution_count": 55,
   "id": "aecedc57-c752-4830-9976-0387e235c234",
   "metadata": {},
   "outputs": [],
   "source": [
    "k_values = generate_k_values(XCt.shape[1])\n",
    "best_k, best_accuracy, accuracy_scores, precision_scores, recall_scores, f1_scores = train_k_values(XCt, YCt, learning_rate, iterations, k_values)"
   ]
  },
  {
   "cell_type": "code",
   "execution_count": 56,
   "id": "af7ba472-fed6-4e5d-9fc2-1acfaa763d0e",
   "metadata": {},
   "outputs": [
    {
     "data": {
      "text/plain": [
       "11"
      ]
     },
     "execution_count": 56,
     "metadata": {},
     "output_type": "execute_result"
    }
   ],
   "source": [
    "best_k"
   ]
  },
  {
   "cell_type": "code",
   "execution_count": 57,
   "id": "62c629b6-48c6-428a-95e6-da2afa5adfb2",
   "metadata": {},
   "outputs": [
    {
     "data": {
      "text/plain": [
       "(0.9824175824175824, 0.956140350877193, 0.9736842105263158, 0.9736842105263158)"
      ]
     },
     "execution_count": 57,
     "metadata": {},
     "output_type": "execute_result"
    }
   ],
   "source": [
    "best_accuracy, accuracy(YCe, YCBp), accuracy(YCe, YCWp), accuracy(YCe, YCp)"
   ]
  },
  {
   "cell_type": "code",
   "execution_count": 58,
   "id": "98d466b4-65ee-4888-9d69-e2f8df4238b3",
   "metadata": {},
   "outputs": [
    {
     "data": {
      "text/plain": [
       "<Figure size 1000x600 with 0 Axes>"
      ]
     },
     "execution_count": 58,
     "metadata": {},
     "output_type": "execute_result"
    },
    {
     "data": {
      "text/plain": [
       "<Figure size 1000x600 with 0 Axes>"
      ]
     },
     "metadata": {},
     "output_type": "display_data"
    }
   ],
   "source": [
    "plt.figure(figsize=(10, 6))"
   ]
  },
  {
   "cell_type": "code",
   "execution_count": 59,
   "id": "90e61185-72e5-4488-a98d-2ad8be4bb873",
   "metadata": {},
   "outputs": [
    {
     "data": {
      "text/plain": [
       "[<matplotlib.lines.Line2D at 0x23784c14390>]"
      ]
     },
     "execution_count": 59,
     "metadata": {},
     "output_type": "execute_result"
    },
    {
     "data": {
      "image/png": "[encoded data removed]",
      "text/plain": [
       "<Figure size 640x480 with 1 Axes>"
      ]
     },
     "metadata": {},
     "output_type": "display_data"
    }
   ],
   "source": [
    "plt.plot(k_values, accuracy_scores, label='Accuracy', marker='o')"
   ]
  },
  {
   "cell_type": "code",
   "execution_count": 60,
   "id": "7276ce99-f2c4-48d5-ba5b-a0d4229de7c2",
   "metadata": {},
   "outputs": [
    {
     "data": {
      "text/plain": [
       "[<matplotlib.lines.Line2D at 0x23786829290>]"
      ]
     },
     "execution_count": 60,
     "metadata": {},
     "output_type": "execute_result"
    },
    {
     "data": {
      "image/png": "[encoded data removed]",
      "text/plain": [
       "<Figure size 640x480 with 1 Axes>"
      ]
     },
     "metadata": {},
     "output_type": "display_data"
    }
   ],
   "source": [
    "plt.plot(k_values, precision_scores, label='Precision', marker='o')"
   ]
  },
  {
   "cell_type": "code",
   "execution_count": 61,
   "id": "a2d9399f-38f8-423f-bd86-effd9b9b245c",
   "metadata": {},
   "outputs": [
    {
     "data": {
      "text/plain": [
       "(0.975, 1.0, 1.0)"
      ]
     },
     "execution_count": 61,
     "metadata": {},
     "output_type": "execute_result"
    }
   ],
   "source": [
    "precision(YCe, YCBp), precision(YCe, YCWp), precision(YCe, YCp)"
   ]
  },
  {
   "cell_type": "code",
   "execution_count": 62,
   "id": "6baab83a-1cd8-4325-8c3c-591af15262e6",
   "metadata": {},
   "outputs": [
    {
     "data": {
      "text/plain": [
       "[<matplotlib.lines.Line2D at 0x237868a5ad0>]"
      ]
     },
     "execution_count": 62,
     "metadata": {},
     "output_type": "execute_result"
    },
    {
     "data": {
      "image/png": "[encoded data removed]",
      "text/plain": [
       "<Figure size 640x480 with 1 Axes>"
      ]
     },
     "metadata": {},
     "output_type": "display_data"
    }
   ],
   "source": [
    "plt.plot(k_values, recall_scores, label='Recall', marker='o')"
   ]
  },
  {
   "cell_type": "code",
   "execution_count": 63,
   "id": "49b0eec2-6a1d-4412-8e1d-c45592b26334",
   "metadata": {},
   "outputs": [
    {
     "data": {
      "text/plain": [
       "(0.9069767441860465, 0.9302325581395349, 0.9302325581395349)"
      ]
     },
     "execution_count": 63,
     "metadata": {},
     "output_type": "execute_result"
    }
   ],
   "source": [
    "recall(YCe, YCBp), recall(YCe, YCWp), recall(YCe, YCp)"
   ]
  },
  {
   "cell_type": "code",
   "execution_count": 64,
   "id": "b30aa681-94a5-4e3d-b442-8dfaaf520aa0",
   "metadata": {},
   "outputs": [
    {
     "data": {
      "text/plain": [
       "[<matplotlib.lines.Line2D at 0x237868f96d0>]"
      ]
     },
     "execution_count": 64,
     "metadata": {},
     "output_type": "execute_result"
    },
    {
     "data": {
      "image/png": "[encoded data removed]",
      "text/plain": [
       "<Figure size 640x480 with 1 Axes>"
      ]
     },
     "metadata": {},
     "output_type": "display_data"
    }
   ],
   "source": [
    "plt.plot(k_values, f1_scores, label='F1 Score', marker='o')"
   ]
  },
  {
   "cell_type": "code",
   "execution_count": 65,
   "id": "613e400a-2746-4a8a-9afa-56eefeaf6553",
   "metadata": {},
   "outputs": [
    {
     "data": {
      "text/plain": [
       "(0.9397590361445783, 0.963855421686747, 0.963855421686747)"
      ]
     },
     "execution_count": 65,
     "metadata": {},
     "output_type": "execute_result"
    }
   ],
   "source": [
    "f1_score(YCe, YCBp), f1_score(YCe, YCWp), f1_score(YCe, YCp)"
   ]
  },
  {
   "cell_type": "code",
   "execution_count": 66,
   "id": "bb2f6cd9-d8a0-4437-af48-3805a97b9ec7",
   "metadata": {},
   "outputs": [],
   "source": [
    "k_values = generate_k_values(XDt.shape[1])\n",
    "best_k, best_accuracy, accuracy_scores, precision_scores, recall_scores, f1_scores = train_k_values(XDt, YDt, learning_rate, iterations, k_values)"
   ]
  },
  {
   "cell_type": "code",
   "execution_count": 67,
   "id": "9bd6ff88-a2a3-4137-a434-95ce5df53d81",
   "metadata": {},
   "outputs": [
    {
     "data": {
      "text/plain": [
       "6"
      ]
     },
     "execution_count": 67,
     "metadata": {},
     "output_type": "execute_result"
    }
   ],
   "source": [
    "best_k"
   ]
  },
  {
   "cell_type": "code",
   "execution_count": 68,
   "id": "3f759f41-787b-471c-9b18-d982ce5d6fe6",
   "metadata": {},
   "outputs": [
    {
     "data": {
      "text/plain": [
       "0.7687296416938111"
      ]
     },
     "execution_count": 68,
     "metadata": {},
     "output_type": "execute_result"
    }
   ],
   "source": [
    "best_accuracy"
   ]
  },
  {
   "cell_type": "code",
   "execution_count": 69,
   "id": "b9021ba6-c1e8-4b9d-8db3-e2fe580b7e79",
   "metadata": {},
   "outputs": [
    {
     "data": {
      "text/plain": [
       "<Figure size 1000x600 with 0 Axes>"
      ]
     },
     "execution_count": 69,
     "metadata": {},
     "output_type": "execute_result"
    },
    {
     "data": {
      "text/plain": [
       "<Figure size 1000x600 with 0 Axes>"
      ]
     },
     "metadata": {},
     "output_type": "display_data"
    }
   ],
   "source": [
    "plt.figure(figsize=(10, 6))"
   ]
  },
  {
   "cell_type": "code",
   "execution_count": 70,
   "id": "0fb0706a-687a-48e1-9b79-80ce25e29c0f",
   "metadata": {},
   "outputs": [
    {
     "data": {
      "text/plain": [
       "[<matplotlib.lines.Line2D at 0x23786978990>]"
      ]
     },
     "execution_count": 70,
     "metadata": {},
     "output_type": "execute_result"
    },
    {
     "data": {
      "image/png": "[encoded data removed]",
      "text/plain": [
       "<Figure size 640x480 with 1 Axes>"
      ]
     },
     "metadata": {},
     "output_type": "display_data"
    }
   ],
   "source": [
    "plt.plot(k_values, accuracy_scores, label='Accuracy', marker='o')"
   ]
  },
  {
   "cell_type": "code",
   "execution_count": 71,
   "id": "74fc7206-1a13-4173-83b2-2721ad36f75a",
   "metadata": {},
   "outputs": [
    {
     "data": {
      "text/plain": [
       "0.7792207792207793"
      ]
     },
     "execution_count": 71,
     "metadata": {},
     "output_type": "execute_result"
    }
   ],
   "source": [
    "accuracy(YDe, YDp)"
   ]
  },
  {
   "cell_type": "code",
   "execution_count": 72,
   "id": "9d75a06e-a382-4d23-afb7-82aa41014e1f",
   "metadata": {},
   "outputs": [
    {
     "data": {
      "text/plain": [
       "[<matplotlib.lines.Line2D at 0x237866c5ad0>]"
      ]
     },
     "execution_count": 72,
     "metadata": {},
     "output_type": "execute_result"
    },
    {
     "data": {
      "image/png": "[encoded data removed]",
      "text/plain": [
       "<Figure size 640x480 with 1 Axes>"
      ]
     },
     "metadata": {},
     "output_type": "display_data"
    }
   ],
   "source": [
    "plt.plot(k_values, precision_scores, label='Precision', marker='o')"
   ]
  },
  {
   "cell_type": "code",
   "execution_count": 73,
   "id": "7f8c4a12-0f23-4b5f-8460-edf42b6ba3b7",
   "metadata": {},
   "outputs": [
    {
     "data": {
      "text/plain": [
       "0.8"
      ]
     },
     "execution_count": 73,
     "metadata": {},
     "output_type": "execute_result"
    }
   ],
   "source": [
    "precision(YDe, YDp)"
   ]
  },
  {
   "cell_type": "code",
   "execution_count": 74,
   "id": "f4e9138d-c53e-45c1-8a6a-51bbf94f73ca",
   "metadata": {},
   "outputs": [
    {
     "data": {
      "text/plain": [
       "[<matplotlib.lines.Line2D at 0x23786705b10>]"
      ]
     },
     "execution_count": 74,
     "metadata": {},
     "output_type": "execute_result"
    },
    {
     "data": {
      "image/png": "[encoded data removed]",
      "text/plain": [
       "<Figure size 640x480 with 1 Axes>"
      ]
     },
     "metadata": {},
     "output_type": "display_data"
    }
   ],
   "source": [
    "plt.plot(k_values, recall_scores, label='Recall', marker='o')"
   ]
  },
  {
   "cell_type": "code",
   "execution_count": 75,
   "id": "e3108b68-c949-4d14-95aa-132a4b8d6818",
   "metadata": {},
   "outputs": [
    {
     "data": {
      "text/plain": [
       "0.509090909090909"
      ]
     },
     "execution_count": 75,
     "metadata": {},
     "output_type": "execute_result"
    }
   ],
   "source": [
    "recall(YDe, YDp)"
   ]
  },
  {
   "cell_type": "code",
   "execution_count": 76,
   "id": "0960a711-5eb5-4dd9-b9ff-c0ba6e816682",
   "metadata": {},
   "outputs": [
    {
     "data": {
      "text/plain": [
       "[<matplotlib.lines.Line2D at 0x23786876b90>]"
      ]
     },
     "execution_count": 76,
     "metadata": {},
     "output_type": "execute_result"
    },
    {
     "data": {
      "image/png": "[encoded data removed]",
      "text/plain": [
       "<Figure size 640x480 with 1 Axes>"
      ]
     },
     "metadata": {},
     "output_type": "display_data"
    }
   ],
   "source": [
    "plt.plot(k_values, f1_scores, label='F1 Score', marker='o')"
   ]
  },
  {
   "cell_type": "code",
   "execution_count": 77,
   "id": "b8b54bd1-4409-4f18-9120-f5c12ea12935",
   "metadata": {},
   "outputs": [
    {
     "data": {
      "text/plain": [
       "0.6222222222222221"
      ]
     },
     "execution_count": 77,
     "metadata": {},
     "output_type": "execute_result"
    }
   ],
   "source": [
    "f1_score(YDe, YDp)"
   ]
  },
  {
   "cell_type": "code",
   "execution_count": null,
   "id": "466cd7a9-ac28-478c-a678-6ec851ce4da8",
   "metadata": {},
   "outputs": [],
   "source": []
  }
 ],
 "metadata": {
  "kernelspec": {
   "display_name": "Python 3 (ipykernel)",
   "language": "python",
   "name": "python3"
  },
  "language_info": {
   "codemirror_mode": {
    "name": "ipython",
    "version": 3
   },
   "file_extension": ".py",
   "mimetype": "text/x-python",
   "name": "python",
   "nbconvert_exporter": "python",
   "pygments_lexer": "ipython3",
   "version": "3.11.7"
  }
 },
 "nbformat": 4,
 "nbformat_minor": 5
}
